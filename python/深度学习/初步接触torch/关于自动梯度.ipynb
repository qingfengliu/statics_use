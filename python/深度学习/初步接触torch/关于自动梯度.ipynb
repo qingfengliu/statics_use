{
 "cells": [
  {
   "cell_type": "code",
   "execution_count": 2,
   "id": "ec634512",
   "metadata": {},
   "outputs": [
    {
     "name": "stdout",
     "output_type": "stream",
     "text": [
      "tensor([0., 1., 2., 3.], requires_grad=True)\n",
      "tensor(42., grad_fn=<MulBackward0>)\n"
     ]
    },
    {
     "data": {
      "text/plain": [
       "tensor([ 0.,  6., 12., 18.])"
      ]
     },
     "execution_count": 2,
     "metadata": {},
     "output_type": "execute_result"
    }
   ],
   "source": [
    "import torch\n",
    "#自动微分\n",
    "x=torch.arange(4.0,requires_grad=True)\n",
    "x.grad  # 默认值是None\n",
    "y = 3 * torch.dot(x, x)\n",
    "print(x)\n",
    "print(y)\n",
    "y.backward()\n",
    "x.grad"
   ]
  },
  {
   "cell_type": "code",
   "execution_count": 3,
   "id": "9417910c",
   "metadata": {},
   "outputs": [
    {
     "data": {
      "text/plain": [
       "tensor([1., 1., 1., 1.])"
      ]
     },
     "execution_count": 3,
     "metadata": {},
     "output_type": "execute_result"
    }
   ],
   "source": [
    "# 计算另外一种梯度\n",
    "# 在默认情况下，PyTorch会累积梯度，我们需要清除之前的值\n",
    "\n",
    "x.grad.zero_() # 相当于把计算图给清空了\n",
    "y = x.sum()    # x1+x2+x3+x4\n",
    "y.backward()   # 做x1+x2+x3+x4的梯度\n",
    "x.grad"
   ]
  },
  {
   "cell_type": "code",
   "execution_count": null,
   "id": "f1d97faa",
   "metadata": {},
   "outputs": [],
   "source": [
    "#分离计算，有时，我们希望将某些计算移动到记录的计算图之外。 例如，假设y是作为x的函数计算的，而z则是作为y和x的函数计算的。 \n",
    "#想象一下，我们想计算z关于x的梯度，但由于某种原因，我们希望将y视为一个常数， 并且只考虑到x在y被计算后发挥的作用。\n",
    "#在这里，我们可以分离y来返回一个新变量u，该变量与y具有相同的值， 但丢弃计算图中如何计算y的任何信息。 \n",
    "#换句话说，梯度不会向后流经u到x。 因此，下面的反向传播函数计算z=u*x关于x的偏导数，同时将u作为常数处理， \n",
    "#而不是z=x*x*x关于x的偏导数。\n",
    "x.grad.zero_()\n",
    "y = x * x\n",
    "u = y.detach()\n",
    "z = u * x\n",
    "\n",
    "z.sum().backward()\n",
    "x.grad == u"
   ]
  },
  {
   "cell_type": "code",
   "execution_count": null,
   "id": "c90042ad",
   "metadata": {},
   "outputs": [],
   "source": [
    "#由于记录了y的计算结果，我们可以随后在y上调用反向传播， \n",
    "#得到y=x*x关于的x的导数，即2*x\n",
    "x.grad.zero_()\n",
    "y.sum().backward()\n",
    "x.grad == 2 * x"
   ]
  },
  {
   "cell_type": "code",
   "execution_count": null,
   "id": "3d1893f0",
   "metadata": {},
   "outputs": [],
   "source": []
  }
 ],
 "metadata": {
  "kernelspec": {
   "display_name": "Python 3 (ipykernel)",
   "language": "python",
   "name": "python3"
  },
  "language_info": {
   "codemirror_mode": {
    "name": "ipython",
    "version": 3
   },
   "file_extension": ".py",
   "mimetype": "text/x-python",
   "name": "python",
   "nbconvert_exporter": "python",
   "pygments_lexer": "ipython3",
   "version": "3.9.6"
  }
 },
 "nbformat": 4,
 "nbformat_minor": 5
}
