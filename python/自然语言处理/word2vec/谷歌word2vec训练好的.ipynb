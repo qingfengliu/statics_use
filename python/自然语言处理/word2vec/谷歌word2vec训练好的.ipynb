{
 "cells": [
  {
   "cell_type": "code",
   "execution_count": null,
   "id": "6ae84405",
   "metadata": {},
   "outputs": [],
   "source": [
    "#加载一个与训练好的word2vec \n",
    "from gensim.models import KeyedVectors\n",
    "word_vectors = KeyedVectors.load_word2vec_format(r'D:\\数据集\\谷歌新闻word2dev\\GoogleNews-vectors-negative300.bin.gz', binary=True)"
   ]
  },
  {
   "cell_type": "code",
   "execution_count": null,
   "id": "abf5d640",
   "metadata": {},
   "outputs": [],
   "source": [
    "#最相似\n",
    "word_vectors.most_similar('place',topn=5)"
   ]
  },
  {
   "cell_type": "code",
   "execution_count": null,
   "id": "3e8a23cf",
   "metadata": {},
   "outputs": [],
   "source": [
    "word_vectors.most_similar(['cooking','potatoes'],topn=5)"
   ]
  },
  {
   "cell_type": "code",
   "execution_count": null,
   "id": "916afe1e",
   "metadata": {},
   "outputs": [],
   "source": [
    "#这些词里最不相似的\n",
    "word_vectors.doesnt_match(\"potatoes milk cake computer\".split())"
   ]
  },
  {
   "cell_type": "code",
   "execution_count": null,
   "id": "d7827453",
   "metadata": {},
   "outputs": [],
   "source": [
    "#两个词的相似度\n",
    "word_vectors.similarity('princess','queen')"
   ]
  },
  {
   "cell_type": "code",
   "execution_count": null,
   "id": "dc67528c",
   "metadata": {},
   "outputs": [],
   "source": [
    "word_vectors['phone']"
   ]
  },
  {
   "cell_type": "code",
   "execution_count": null,
   "id": "fbc039d2",
   "metadata": {},
   "outputs": [],
   "source": [
    "#词频,已经不存在\n",
    "# import pandas as pd\n",
    "# vocab=pd.Series()\n",
    "# vocab.iloc[1000000:1000006]\n",
    "\n",
    "import numpy as np\n",
    "np.linalg.norm(word_vectors['Illinois'] - word_vectors['Illini'])  # <1>欧几里得距离"
   ]
  },
  {
   "cell_type": "code",
   "execution_count": null,
   "id": "259f9f71",
   "metadata": {},
   "outputs": [],
   "source": [
    "similarity = np.dot(word_vectors['Illinois'], word_vectors['Illini']) / (\n",
    "    np.linalg.norm(word_vectors['Illinois']) * np.linalg.norm(word_vectors['Illini']))   # <2>\n",
    "print(similarity) #余弦相似度\n",
    "print(1 - similarity)  # 余弦距离"
   ]
  },
  {
   "cell_type": "code",
   "execution_count": null,
   "id": "4dca681d",
   "metadata": {},
   "outputs": [],
   "source": []
  }
 ],
 "metadata": {
  "kernelspec": {
   "display_name": "Python 3 (ipykernel)",
   "language": "python",
   "name": "python3"
  },
  "language_info": {
   "codemirror_mode": {
    "name": "ipython",
    "version": 3
   },
   "file_extension": ".py",
   "mimetype": "text/x-python",
   "name": "python",
   "nbconvert_exporter": "python",
   "pygments_lexer": "ipython3",
   "version": "3.8.3"
  }
 },
 "nbformat": 4,
 "nbformat_minor": 5
}
