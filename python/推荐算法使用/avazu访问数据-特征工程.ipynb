{
 "cells": [
  {
   "cell_type": "code",
   "execution_count": 1,
   "id": "2f282e3b",
   "metadata": {},
   "outputs": [],
   "source": [
    "import pandas as pd\n",
    "import numpy as  np\n",
    "from matplotlib import pyplot as plt\n",
    "import seaborn as sns\n",
    "import json\n",
    "import datetime\n",
    "from sklearn.preprocessing import LabelEncoder\n",
    "from sklearn.model_selection import StratifiedShuffleSplit\n",
    "\n",
    "pd.set_option('max_row',200)\n",
    "pd.set_option('max_columns',200)\n",
    "\n",
    "train_all = pd.read_csv('D:/书籍资料整理/kaggle/avazu-ctr-prediction/train.csv')\n",
    "split = StratifiedShuffleSplit(n_splits=1, train_size=0.05, random_state=42)\n",
    "for train_index, test_index in split.split(train_all, train_all[\"click\"]):\n",
    "    strat_train_set = train_all.loc[train_index]\n",
    "    strat_train_set.to_csv(\"D:/数据中间处理结果/avazu/train_sample.csv\", header = True)\n"
   ]
  },
  {
   "cell_type": "code",
   "execution_count": 2,
   "id": "21308196",
   "metadata": {},
   "outputs": [],
   "source": [
    "#这段运行时间太长所以注释了,\n",
    "# train = pd.read_csv(\"D:/数据中间处理结果/avazu/train_sample.csv\")\n",
    "# train_all = pd.read_csv('D:/书籍资料整理/kaggle/avazu-ctr-prediction/train.csv')\n",
    "# print(train.click.value_counts())\n",
    "# print(train_all.click.value_counts())\n",
    "# 0    1678195\n",
    "# 1     343253\n",
    "# Name: click, dtype: int64\n",
    "# 0    33563901\n",
    "# 1     6865066\n",
    "# Name: click, dtype: int64"
   ]
  },
  {
   "cell_type": "code",
   "execution_count": 3,
   "id": "355207b0",
   "metadata": {},
   "outputs": [],
   "source": [
    "del train_all"
   ]
  },
  {
   "cell_type": "markdown",
   "id": "ca109399",
   "metadata": {},
   "source": [
    "在进行特征工程的时候，我们不仅需要对训练数据进行处理，还需要同时将测试数据同训练数据一起处理，使得二者具有相同的数据类型和数据分布。为了方便起见，现将二者合并。"
   ]
  },
  {
   "cell_type": "code",
   "execution_count": 4,
   "id": "36dcb1be",
   "metadata": {},
   "outputs": [],
   "source": [
    "data_type = {'id': 'U', 'hour': 'U', 'device_type':'U', 'C1':'U', 'C15':'U', 'C16':'U'}\n",
    "\n",
    "train = pd.read_csv('D:/数据中间处理结果/avazu/train_sample.csv', dtype=data_type, index_col='id')\n",
    "test  = pd.read_csv('D:/书籍资料整理/kaggle/avazu-ctr-prediction/test.csv', dtype=data_type, index_col='id')\n",
    "test.insert(0, 'click', 0)\n",
    "\n",
    "tr_ts = pd.concat([test, train], copy=False)\n"
   ]
  },
  {
   "cell_type": "markdown",
   "id": "fbe53a35",
   "metadata": {},
   "source": [
    "1.将一些非数字型的原始数据转换为数字型numeric"
   ]
  },
  {
   "cell_type": "markdown",
   "id": "806be4af",
   "metadata": {},
   "source": [
    "1) site_id 处理频率低于20 <br>\n",
    "将site_id转为二值型<br>\n",
    "site_id 出现>20 为 0<br>\n",
    "site_id 出现<=20 为 1<br>\n",
    "site_domain app_id device_model 也做同样处理"
   ]
  },
  {
   "cell_type": "code",
   "execution_count": 5,
   "id": "b9e2d178",
   "metadata": {},
   "outputs": [],
   "source": [
    "\n",
    "\n",
    "\n",
    "site_id_count = tr_ts.site_id.value_counts()\n",
    "site_id_category={}\n",
    "site_id_category[0] = site_id_count.loc[site_id_count>20].index.values\n",
    "site_id_category[1] = site_id_count.loc[site_id_count<=20].index.values\n",
    "\n",
    "site_id_C_type_dict = {}\n",
    "for key, values in site_id_category.items():\n",
    "    for item in values:\n",
    "        site_id_C_type_dict[str(item)] = key\n",
    "\n",
    "json.dump(site_id_C_type_dict, open(\"D:/数据中间处理结果/avazu/site_id_C_type_dict.json\", \"w\"))\n",
    "\n",
    "site_domain_count = tr_ts.site_domain.value_counts()\n",
    "site_domain_category={}\n",
    "site_domain_category[0] = site_domain_count.loc[site_domain_count>20].index.values\n",
    "site_domain_category[1] = site_domain_count.loc[site_domain_count<=20].index.values\n",
    "\n",
    "site_domain_C_type_dict = {}\n",
    "for key, values in site_domain_category.items():\n",
    "    for item in values:\n",
    "        site_domain_C_type_dict[str(item)] = key\n",
    "\n",
    "json.dump(site_domain_C_type_dict, open(\"D:/数据中间处理结果/avazu/site_domain_C_type_dict.json\", \"w\"))\n",
    "\n",
    "app_id_count = tr_ts.app_id.value_counts()\n",
    "app_id_category={}\n",
    "app_id_category[0] = app_id_count.loc[app_id_count>20].index.values\n",
    "app_id_category[1] = app_id_count.loc[app_id_count<=20].index.values\n",
    "\n",
    "app_id_C_type_dict = {}\n",
    "for key, values in app_id_category.items():\n",
    "    for item in values:\n",
    "        app_id_C_type_dict[str(item)] = key\n",
    "\n",
    "json.dump(app_id_C_type_dict, open(\"D:/数据中间处理结果/avazu/app_id_C_type_dict.json\", \"w\"))\n",
    "\n",
    "device_model_count = tr_ts.device_model.value_counts()\n",
    "device_model_category={}\n",
    "device_model_category[0] = device_model_count.loc[device_model_count>200].index.values\n",
    "device_model_category[1] = device_model_count.loc[device_model_count<=200].index.values\n",
    "\n",
    "device_model_C_type_dict = {}\n",
    "for key, values in device_model_category.items():\n",
    "    for item in values:\n",
    "        device_model_C_type_dict[str(item)] = key\n",
    "\n",
    "json.dump(device_model_C_type_dict, open(\"D:/数据中间处理结果/avazu/device_model_C_type_dict.json\", \"w\"))\n"
   ]
  },
  {
   "cell_type": "code",
   "execution_count": 6,
   "id": "61815487",
   "metadata": {},
   "outputs": [
    {
     "name": "stdout",
     "output_type": "stream",
     "text": [
      "----------------------------------------\n"
     ]
    },
    {
     "data": {
      "text/plain": [
       "13    119760\n",
       "9     113492\n",
       "12    110690\n",
       "14    109941\n",
       "10    107799\n",
       "8     104858\n",
       "15    104058\n",
       "16    102962\n",
       "11    102105\n",
       "17    101638\n",
       "5      99650\n",
       "4      95710\n",
       "7      92646\n",
       "18     88205\n",
       "6      87754\n",
       "3      69626\n",
       "19     65279\n",
       "2      61303\n",
       "20     56108\n",
       "21     49966\n",
       "1      49414\n",
       "22     45532\n",
       "0      42098\n",
       "23     40854\n",
       "Name: hour1, dtype: int64"
      ]
     },
     "execution_count": 6,
     "metadata": {},
     "output_type": "execute_result"
    }
   ],
   "source": [
    "# train.head()\n",
    "train['hour']=train['hour'].astype(np.int64)\n",
    "train.head()\n",
    "train['day']=np.round(train.hour % 10000 / 100)\n",
    "train['hour1'] = np.round(train.hour % 100)\n",
    "train['day'].value_counts()\n",
    "print(\"-\" * 40)\n",
    "train['hour1'].value_counts()\n"
   ]
  },
  {
   "cell_type": "code",
   "execution_count": 7,
   "id": "52d30807",
   "metadata": {},
   "outputs": [
    {
     "data": {
      "image/png": "[encoded data removed]",
      "text/plain": [
       "<Figure size 432x288 with 1 Axes>"
      ]
     },
     "metadata": {
      "needs_background": "light"
     },
     "output_type": "display_data"
    }
   ],
   "source": [
    "sns.countplot(x=\"hour1\", hue=\"click\",data=train)\n",
    "sns.countplot(x=\"day\", hue=\"click\",data=train)\n",
    "plt.show()"
   ]
  },
  {
   "cell_type": "code",
   "execution_count": 8,
   "id": "c88940f6",
   "metadata": {},
   "outputs": [],
   "source": [
    "tr_ts['day'] = tr_ts['hour'].apply(lambda x: x[-4:-2])\n",
    "tr_ts['hour'] = tr_ts['hour'].apply(lambda x: x[-2:])\n",
    "\n",
    "tr_ts['is_device'] = tr_ts['device_id'].apply(lambda x: 0 if x=='a99f214a' else 1)  #详见探索性数据分析部分\n",
    "\n",
    "\n",
    "app_id_C_type_dict = json.load(open(\"D:/数据中间处理结果/avazu/app_id_C_type_dict.json\", \"r\"))\n",
    "site_id_C_type_dict = json.load(open(\"D:/数据中间处理结果/avazu/site_id_C_type_dict.json\", \"r\"))\n",
    "site_domain_C_type_dict = json.load(open(\"D:/数据中间处理结果/avazu/site_domain_C_type_dict.json\", \"r\"))\n",
    "device_model_C_type_dict = json.load(open(\"D:/数据中间处理结果/avazu/device_model_C_type_dict.json\", \"r\"))\n",
    "\n",
    "tr_ts['C_app_id'] = tr_ts[\"app_id\"].apply(lambda x: x if app_id_C_type_dict.get(x)==0 else \"other_app_id\")\n",
    "tr_ts['C_site_id'] = tr_ts['site_id'].apply(lambda x: x if site_id_C_type_dict.get(x)==0 else \"other_site_id\")\n",
    "tr_ts['C_site_domain'] = tr_ts['site_domain'].apply(lambda x: x if site_domain_C_type_dict.get(x)==0 else \"other_site_domain\")\n",
    "tr_ts['C_device_model'] = tr_ts['device_model'].apply(lambda x: x if device_model_C_type_dict.get(x)==0 else \"other_device_model\")\n",
    "\n"
   ]
  },
  {
   "cell_type": "markdown",
   "id": "82438e2f",
   "metadata": {},
   "source": [
    "# 特征组合"
   ]
  },
  {
   "cell_type": "code",
   "execution_count": 9,
   "id": "92ead9e7",
   "metadata": {},
   "outputs": [
    {
     "data": {
      "image/png": "[encoded data removed]",
      "text/plain": [
       "<Figure size 432x288 with 1 Axes>"
      ]
     },
     "metadata": {
      "needs_background": "light"
     },
     "output_type": "display_data"
    },
    {
     "name": "stdout",
     "output_type": "stream",
     "text": [
      "----------------------------------------\n",
      "convert hour...\n",
      "convert banner_pos...\n",
      "convert site_category...\n",
      "convert app_domain...\n",
      "convert app_category...\n",
      "convert device_conn_type...\n",
      "convert C14...\n",
      "convert C18...\n",
      "convert C19...\n",
      "convert C20...\n",
      "convert C21...\n",
      "convert is_device...\n",
      "convert C_app_id...\n",
      "convert C_site_id...\n",
      "convert C_site_domain...\n",
      "convert C_device_model...\n",
      "convert C_pix...\n",
      "convert C_device_type_1...\n"
     ]
    }
   ],
   "source": [
    "sns.countplot(x=\"C15\", hue=\"click\",data=train)\n",
    "sns.countplot(x=\"C16\", hue=\"click\",data=train)\n",
    "plt.show()\n",
    "train['C15'].value_counts()\n",
    "print(\"-\" * 40)\n",
    "train['C16'].value_counts()\n",
    "#对比一下，二者分布类似，猜测，二者可能组合起来可能代表一个用户标识，或者一种设备标识，因此将二者合为一列\n",
    "tr_ts[\"C_pix\"] = tr_ts[\"C15\"] + '&' + tr_ts[\"C16\"]\n",
    "tr_ts[\"C_device_type_1\"] = tr_ts[\"device_type\"] + '&' + tr_ts[\"C1\"]\n",
    "\n",
    "tr_ts.drop(['device_id', \"device_type\", 'app_id', 'site_id', 'site_domain', 'device_model',\"C1\", \"C17\", 'C15', 'C16'], axis=1, inplace=True)\n",
    "\n",
    "\n",
    "#app_category 与 广告类别site_category是类别型变量，对其进行 dummy编码\n",
    "\n",
    "lenc = LabelEncoder()\n",
    "C_fields = [ 'hour', 'banner_pos', 'site_category', 'app_domain', 'app_category',\n",
    "            'device_conn_type', 'C14', 'C18', 'C19', 'C20','C21', 'is_device', 'C_app_id', 'C_site_id', \n",
    "            'C_site_domain', 'C_device_model', 'C_pix', 'C_device_type_1']\n",
    "for f, column in enumerate(C_fields):\n",
    "    print(\"convert \" + column + \"...\")\n",
    "    tr_ts[column] = lenc.fit_transform(tr_ts[column])\n",
    "\n",
    "\n",
    "dummies_site_category = pd.get_dummies(tr_ts['site_category'], prefix = 'site_category')\n",
    "dummies_app_category = pd.get_dummies(tr_ts['app_category'], prefix = 'app_category')\n",
    "\n",
    "tr_ts_new = pd.concat([tr_ts, dummies_site_category, dummies_app_category], axis=1)\n",
    "tr_ts_new.drop(['site_category', 'app_category'], axis = 1, inplace=True)\n"
   ]
  },
  {
   "cell_type": "code",
   "execution_count": 11,
   "id": "8aa79094",
   "metadata": {},
   "outputs": [],
   "source": [
    "#这里原文还有一步,增加特征 这里就不增加特征了,没有看懂那段\n",
    "import sklearn.preprocessing as preprocessing\n",
    "scaler = preprocessing.StandardScaler()\n",
    "age_scale_param = scaler.fit(tr_ts[['C14','C18','C19','C20','C21']])\n",
    "tr_ts[['C14','C18','C19','C20','C21']] = age_scale_param.transform(tr_ts[['C14','C18','C19','C20','C21']])\n",
    "\n",
    "tr_ts.iloc[:test.shape[0],].to_csv('D:/数据中间处理结果/avazu/ts_FE.csv')\n",
    "tr_ts.iloc[test.shape[0]:,].to_csv('D:/数据中间处理结果/avazu/tr_FE.csv')"
   ]
  },
  {
   "cell_type": "code",
   "execution_count": null,
   "id": "649d8e6c",
   "metadata": {},
   "outputs": [],
   "source": []
  }
 ],
 "metadata": {
  "kernelspec": {
   "display_name": "Python 3 (ipykernel)",
   "language": "python",
   "name": "python3"
  },
  "language_info": {
   "codemirror_mode": {
    "name": "ipython",
    "version": 3
   },
   "file_extension": ".py",
   "mimetype": "text/x-python",
   "name": "python",
   "nbconvert_exporter": "python",
   "pygments_lexer": "ipython3",
   "version": "3.9.6"
  }
 },
 "nbformat": 4,
 "nbformat_minor": 5
}
