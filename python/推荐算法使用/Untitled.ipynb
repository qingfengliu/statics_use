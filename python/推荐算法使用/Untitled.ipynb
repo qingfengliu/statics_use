{
 "cells": [
  {
   "cell_type": "code",
   "execution_count": 1,
   "id": "acc8ca0a",
   "metadata": {},
   "outputs": [],
   "source": [
    "\n",
    "import xlearn as xl\n",
    "\n",
    "# Training task\n",
    "ffm_model = xl.create_ffm() # Use field-aware factorization machine\n",
    "ffm_model.setTrain(\"D:/model/demo_criteo/small_train.txt\")  # Training data\n",
    "ffm_model.setValidate(\"D:/model/demo_criteo/small_test.txt\")  # Validation data\n",
    "\n",
    "# param:\n",
    "#  0. binary classification\n",
    "#  1. learning rate: 0.2\n",
    "#  2. regular lambda: 0.002\n",
    "#  3. evaluation metric: accuracy\n",
    "param = {'task':'binary', 'lr':0.2, \n",
    "         'lambda':0.002, 'metric':'acc'}\n",
    "\n",
    "# Start to train\n",
    "# The trained model will be stored in model.out\n",
    "ffm_model.fit(param, 'D:/model/demo_criteo/model.out')\n",
    "\n",
    "# Prediction task\n",
    "ffm_model.setTest(\"D:/model/demo_criteo/small_test.txt\")  # Test data\n",
    "ffm_model.setSigmoid()  # Convert output to 0-1\n",
    "\n",
    "# Start to predict\n",
    "# The output result will be stored in output.txt\n",
    "ffm_model.predict(\"D:/model/demo_criteo/model.out\", \"./output.txt\")"
   ]
  },
  {
   "cell_type": "code",
   "execution_count": null,
   "id": "dd971bd6",
   "metadata": {},
   "outputs": [],
   "source": []
  }
 ],
 "metadata": {
  "kernelspec": {
   "display_name": "Python 3 (ipykernel)",
   "language": "python",
   "name": "python3"
  },
  "language_info": {
   "codemirror_mode": {
    "name": "ipython",
    "version": 3
   },
   "file_extension": ".py",
   "mimetype": "text/x-python",
   "name": "python",
   "nbconvert_exporter": "python",
   "pygments_lexer": "ipython3",
   "version": "3.9.6"
  }
 },
 "nbformat": 4,
 "nbformat_minor": 5
}
