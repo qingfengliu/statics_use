{
 "cells": [
  {
   "cell_type": "code",
   "execution_count": 4,
   "id": "d8a591f2",
   "metadata": {},
   "outputs": [],
   "source": [
    "import torch\n",
    "from torch import nn\n",
    "from torch.nn import functional as F\n",
    "from torch.utils import data\n",
    "from torchvision import transforms\n",
    "import torchvision\n",
    " \n",
    "\n"
   ]
  },
  {
   "cell_type": "code",
   "execution_count": null,
   "id": "625e6b65",
   "metadata": {},
   "outputs": [],
   "source": [
    "class CIFAR10Dataset(data.Dataset):\n",
    "    def __init__(self, file_path=[], crop_size_img=None, crop_size_label=None):\n",
    "        \"\"\"para:\n",
    "            file_path(list): 数据和标签路径,列表元素第一个为图片路径，第二个为标签路径\n",
    "        \"\"\"\n",
    "        # 1 正确读入图片和标签路径\n",
    "        if len(file_path) != 2:\n",
    "            raise ValueError(\"同时需要图片和标签文件夹的路径，图片路径在前\")\n",
    "        self.img_path = file_path[0]\n",
    "        self.label_path = file_path[1]\n",
    "        # 2 从路径中取出图片和标签数据的文件名保持到两个列表当中（程序中的数据来源）\n",
    "        self.imgs = self.read_file(self.img_path)\n",
    "        self.labels = self.read_file(self.label_path)\n",
    "\n",
    "\n",
    "    def __getitem__(self, index):\n",
    "        img = self.imgs[index]\n",
    "        label = self.labels[index]\n",
    "        # 从文件名中读取数据（图片和标签都是png格式的图像数据）\n",
    "        img = Image.open(img)\n",
    "        label = Image.open(label)\n",
    "\n",
    "\n",
    "        img, label = self.img_transform(img, label)\n",
    "        # print('处理后的图片和标签大小：',img.shape, label.shape)\n",
    "        sample = {'img': img, 'label': label}\n",
    "\n",
    "        return sample\n",
    "\n",
    "    def __len__(self):\n",
    "        return len(self.imgs)\n",
    "\n",
    "    def read_file(self, path):\n",
    "        \"\"\"从文件夹中读取数据\"\"\"\n",
    "        files_list = os.listdir(path)\n",
    "        file_path_list = [os.path.join(path, img) for img in files_list]\n",
    "        file_path_list.sort()\n",
    "        return file_path_list\n",
    "\n",
    "    def img_transform(self, img, label):\n",
    "        \"\"\"对图片和标签做一些数值处理\"\"\"\n",
    "        transform = transforms.Compose(\n",
    "            [\n",
    "                transforms.ToTensor(),\n",
    "                # transforms.Normalize([0.485, 0.456, 0.406], [0.229, 0.224, 0.225])\n",
    "            ]\n",
    "        )\n",
    "        img = transform(img)\n",
    "        label = transform(label)\n",
    "\n",
    "        return img, label\n"
   ]
  },
  {
   "cell_type": "code",
   "execution_count": 16,
   "id": "a54b432d",
   "metadata": {
    "scrolled": true
   },
   "outputs": [
    {
     "name": "stdout",
     "output_type": "stream",
     "text": [
      "torch.Size([1, 96, 96])\n",
      "(tensor([[[0., 0., 0.,  ..., 0., 0., 0.],\n",
      "         [0., 0., 0.,  ..., 0., 0., 0.],\n",
      "         [0., 0., 0.,  ..., 0., 0., 0.],\n",
      "         ...,\n",
      "         [0., 0., 0.,  ..., 0., 0., 0.],\n",
      "         [0., 0., 0.,  ..., 0., 0., 0.],\n",
      "         [0., 0., 0.,  ..., 0., 0., 0.]]]), 2)\n"
     ]
    }
   ],
   "source": [
    "def load_data_fashion_mnist(batch_size, resize=None):  # @save\n",
    "    \"\"\"下载Fashion-MNIST数据集，然后将其加载到内存中\"\"\"\n",
    "    trans = [transforms.ToTensor()]\n",
    "    if resize:\n",
    "        trans.insert(0, transforms.Resize(resize))\n",
    "    trans = transforms.Compose(trans)\n",
    "    mnist_train = torchvision.datasets.FashionMNIST(\n",
    "        root=\"D:/书籍资料整理/torch_data\", train=True, transform=trans, download=True)\n",
    "    print(mnist_train[2][0].shape)\n",
    "    mnist_test = torchvision.datasets.FashionMNIST(\n",
    "        root=\"D:/书籍资料整理/torch_data\", train=False, transform=trans, download=True)\n",
    "    \n",
    "    print(mnist_test[1])\n",
    "    return (data.DataLoader(mnist_train, batch_size, shuffle=True,\n",
    "                            num_workers=2),\n",
    "            data.DataLoader(mnist_test, batch_size, shuffle=False,\n",
    "                            num_workers=2))\n",
    "lr, num_epochs, batch_size = 0.05, 10, 256\n",
    "train_iter, test_iter = load_data_fashion_mnist(batch_size, resize=96)"
   ]
  },
  {
   "cell_type": "code",
   "execution_count": null,
   "id": "c20f468c",
   "metadata": {},
   "outputs": [],
   "source": [
    "#使用这种方式,需要将图片按照类建文件夹并且放进去\n",
    "#如\n",
    "# root/dog/xxx.png\n",
    "# root/dog/xxy.png\n",
    "# root/dog/xxz.png\n",
    "\n",
    "# root/cat/123.png\n",
    "# root/cat/nsdf3.png\n",
    "# root/cat/asd932_.png\n",
    "data_transfrom = transforms.Compose([  # 对读取的图片进行以下指定操作\n",
    "    transforms.Resize((32, 32)),     # 图片放缩为 (300, 300), 统一处理的图像最好设置为统一的大小,这样之后的处理也更加方便\n",
    "    transforms.ToTensor(),             # 向量化,向量化时 每个点的像素值会除以255,整个向量中的元素值都在0-1之间      \n",
    "])\n",
    " \n",
    "img = datasets.ImageFolder('D:/书籍资料整理/kaggle/cifar-10/train', transform=data_transfrom)  # 指明读取的文件夹和读取方式,注意指明的是到文件夹的路径,不是到图片的路径\n",
    " \n",
    "imgLoader = torch.utils.data.DataLoader(img, batch_size=2, shuffle=False, num_workers=1)  # 指定读取配置信息\n",
    "\n"
   ]
  }
 ],
 "metadata": {
  "kernelspec": {
   "display_name": "Python 3 (ipykernel)",
   "language": "python",
   "name": "python3"
  },
  "language_info": {
   "codemirror_mode": {
    "name": "ipython",
    "version": 3
   },
   "file_extension": ".py",
   "mimetype": "text/x-python",
   "name": "python",
   "nbconvert_exporter": "python",
   "pygments_lexer": "ipython3",
   "version": "3.9.6"
  }
 },
 "nbformat": 4,
 "nbformat_minor": 5
}
