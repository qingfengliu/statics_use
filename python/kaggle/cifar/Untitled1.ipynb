{
 "cells": [
  {
   "cell_type": "code",
   "execution_count": 2,
   "id": "582dcfa2",
   "metadata": {},
   "outputs": [],
   "source": [
    "import pandas as pd\n",
    "labels=pd.read_csv(r'D:\\书籍资料整理\\kaggle\\cifar-10\\label.csv')\n",
    "labels = labels['y'].to_list()[49000:]   "
   ]
  },
  {
   "cell_type": "code",
   "execution_count": 4,
   "id": "58864dc7",
   "metadata": {},
   "outputs": [
    {
     "data": {
      "text/plain": [
       "1000"
      ]
     },
     "execution_count": 4,
     "metadata": {},
     "output_type": "execute_result"
    }
   ],
   "source": [
    "len(labels)"
   ]
  },
  {
   "cell_type": "code",
   "execution_count": null,
   "id": "585c2ab4",
   "metadata": {},
   "outputs": [],
   "source": []
  }
 ],
 "metadata": {
  "kernelspec": {
   "display_name": "Python 3 (ipykernel)",
   "language": "python",
   "name": "python3"
  },
  "language_info": {
   "codemirror_mode": {
    "name": "ipython",
    "version": 3
   },
   "file_extension": ".py",
   "mimetype": "text/x-python",
   "name": "python",
   "nbconvert_exporter": "python",
   "pygments_lexer": "ipython3",
   "version": "3.8.3"
  }
 },
 "nbformat": 4,
 "nbformat_minor": 5
}
