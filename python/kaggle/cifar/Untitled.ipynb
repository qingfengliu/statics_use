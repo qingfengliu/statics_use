{
 "cells": [
  {
   "cell_type": "code",
   "execution_count": 2,
   "id": "3ee0b121",
   "metadata": {},
   "outputs": [],
   "source": [
    "import torch\n",
    "from torch import nn\n",
    "from torch.nn import functional as F\n",
    "from torch.utils.data import Dataset,DataLoader\n",
    "from torchvision import transforms\n",
    "import torchvision\n",
    "import pandas as pd\n",
    "import os\n",
    "import re\n",
    "from PIL import Image\n",
    "from torchvision.models import resnet34\n",
    "import time\n",
    "\n",
    "class CIFAR10Dataset(Dataset):\n",
    "    def __init__(self, file_path=[], crop_size_img=None, crop_size_label=None):\n",
    "        \"\"\"para:\n",
    "            file_path(list): 数据和标签路径,列表元素第一个为图片路径，第二个为标签路径\n",
    "        \"\"\"\n",
    "        # 1 正确读入图片和标签路径\n",
    "        if len(file_path) != 2:\n",
    "            raise ValueError(\"同时需要图片和标签文件夹的路径，图片路径在前\")\n",
    "        self.img_path = file_path[0]\n",
    "        self.label_path = file_path[1]\n",
    "        # 2 从路径中取出图片和标签数据的文件名保持到两个列表当中（程序中的数据来源）\n",
    "        self.imgs = self.read_file(self.img_path)\n",
    "        labels=pd.read_csv(file_path[1])\n",
    "        self.labels = labels['y'].to_list()      \n",
    "\n",
    "\n",
    "    def __getitem__(self, index):\n",
    " \n",
    "        # 从文件名中读取数据（图片和标签都是png格式的图像数据）\n",
    "        img = self.imgs[index]\n",
    "        img = Image.open(img)\n",
    "        label = self.labels[index]\n",
    "        img = self.img_transform(img, label)\n",
    "        return img,label\n",
    "\n",
    "    def __len__(self):\n",
    "        return len(self.imgs)\n",
    "\n",
    "    def read_file(self, path):\n",
    "        \"\"\"从文件夹中读取数据\"\"\"\n",
    "        files_list = os.listdir(path)\n",
    "        \n",
    "        file_path_list = {int(re.search(r'(?<=train\\\\)[0-9]+',os.path.join(path, img)).group(0))-1:os.path.join(path, img) for img in files_list}\n",
    "        return file_path_list\n",
    "\n",
    "    def img_transform(self, img, label):\n",
    "        \"\"\"对图片和标签做一些数值处理\"\"\"\n",
    "        transform = transforms.Compose(\n",
    "            [\n",
    "                transforms.ToTensor(),\n",
    "                # transforms.Normalize([0.485, 0.456, 0.406], [0.229, 0.224, 0.225])\n",
    "            ]\n",
    "        )\n",
    "        img = transform(img)\n",
    "\n",
    "        return img\n",
    "\n",
    "tensor_dataset=CIFAR10Dataset([r'D:\\书籍资料整理\\kaggle\\cifar-10\\train',r'D:\\书籍资料整理\\kaggle\\cifar-10\\label.csv'])"
   ]
  },
  {
   "cell_type": "code",
   "execution_count": 3,
   "id": "ee74fa3e",
   "metadata": {},
   "outputs": [],
   "source": [
    "tensor_dataloader = DataLoader(tensor_dataset,   # 封装的对象\n",
    "                               batch_size=256,     # 输出的batchsize\n",
    "                               shuffle=True,     # 随机输出\n",
    "                               num_workers=0)    # 只有1个进程\n"
   ]
  },
  {
   "cell_type": "code",
   "execution_count": 5,
   "id": "0cfb1504",
   "metadata": {},
   "outputs": [],
   "source": [
    "def try_gpu(i=0):  #@save\n",
    "    \"\"\"如果存在，则返回gpu(i)，否则返回cpu()\"\"\"\n",
    "    if torch.cuda.device_count() >= i + 1:\n",
    "        return torch.device(f'cuda:{i}')\n",
    "    return torch.device('cpu')"
   ]
  },
  {
   "cell_type": "code",
   "execution_count": 6,
   "id": "38805adb",
   "metadata": {},
   "outputs": [],
   "source": [
    "EPOCH=5"
   ]
  },
  {
   "cell_type": "code",
   "execution_count": 7,
   "id": "49d22cc2",
   "metadata": {},
   "outputs": [
    {
     "name": "stdout",
     "output_type": "stream",
     "text": [
      "epoch1 loss:1.8748 time:870.3292\n",
      "epoch2 loss:1.2410 time:875.4534\n",
      "epoch3 loss:1.2395 time:864.8805\n",
      "epoch4 loss:1.4780 time:853.6953\n",
      "epoch5 loss:0.8060 time:907.9043\n"
     ]
    }
   ],
   "source": [
    "model = torchvision.models.resnet50(pretrained=False) #使用resnet50模型[残差网络] 不进行预训练\n",
    "criterion = nn.CrossEntropyLoss()\n",
    "optimizer = torch.optim.Adam(model.parameters(), lr=1e-3)\n",
    "# 开始训练\n",
    "device=try_gpu()\n",
    "\n",
    "for epoch in range(EPOCH):\n",
    "    start_time = time.time() #记录当前时间\n",
    "    for i, data in enumerate(tensor_dataloader):\n",
    "        # data里面包含图像数据（inputs）(tensor类型的）和标签（labels）(tensor类型）。\n",
    "        inputs, labels = data\n",
    "        # 将数据加载到相应设备中\n",
    "        inputs, labels = inputs.to(device), labels.to(device)\n",
    "        # 前向传播\n",
    "        outputs = model(inputs)\n",
    "        # 计算损失函数\n",
    "        loss = criterion(outputs, labels)\n",
    "        # 清空上一轮梯度\n",
    "        optimizer.zero_grad()\n",
    "        # 反向传播\n",
    "        loss.backward()\n",
    "        # 参数更新\n",
    "        optimizer.step()\n",
    "    print('epoch{} loss:{:.4f} time:{:.4f}'.format(epoch+1, loss.item(), time.time()-start_time))\n",
    "\n"
   ]
  },
  {
   "cell_type": "code",
   "execution_count": null,
   "id": "59627a40",
   "metadata": {},
   "outputs": [],
   "source": [
    "#保存训练模型,下次可以直接加载\n",
    "file_name = r'D:\\书籍资料整理\\kaggle\\cifar-10\\cifar10_resnet.pt'\n",
    "torch.save(model, file_name)\n",
    "print(file_name+' saved successfully!')\n",
    "\n",
    "# 测试\n",
    "model = torch.load(r'D:\\书籍资料整理\\kaggle\\cifar-10\\cifar10_resnet.pt') #加载模型\n",
    "model.eval() #切换到测试模式\n",
    "print(model)"
   ]
  }
 ],
 "metadata": {
  "kernelspec": {
   "display_name": "Python 3 (ipykernel)",
   "language": "python",
   "name": "python3"
  },
  "language_info": {
   "codemirror_mode": {
    "name": "ipython",
    "version": 3
   },
   "file_extension": ".py",
   "mimetype": "text/x-python",
   "name": "python",
   "nbconvert_exporter": "python",
   "pygments_lexer": "ipython3",
   "version": "3.9.6"
  }
 },
 "nbformat": 4,
 "nbformat_minor": 5
}
