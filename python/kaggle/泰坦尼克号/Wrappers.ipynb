{
 "cells": [
  {
   "cell_type": "code",
   "execution_count": 1,
   "id": "fb3dab36",
   "metadata": {},
   "outputs": [],
   "source": [
    "import pandas as pd\n",
    "from sklearn.preprocessing import LabelEncoder\n",
    "import xgboost as xgb\n",
    "import joblib\n",
    "from sklearn.model_selection import train_test_split\n",
    "from sklearn.feature_selection import VarianceThreshold\n",
    "from sklearn.metrics import precision_score, recall_score,accuracy_score,f1_score,roc_auc_score,mean_squared_error\n",
    "from sklearn.metrics import log_loss\n",
    "data=pd.read_csv(r'D:\\书籍资料整理\\kaggle\\titanic\\train.csv')\n",
    "data=data[['PassengerId','Survived','Pclass','Sex','Age','SibSp','Parch','Fare','Embarked']] #去掉可能的无关值"
   ]
  },
  {
   "cell_type": "code",
   "execution_count": 2,
   "id": "df55378e",
   "metadata": {},
   "outputs": [
    {
     "data": {
      "text/html": [
       "<div>\n",
       "<style scoped>\n",
       "    .dataframe tbody tr th:only-of-type {\n",
       "        vertical-align: middle;\n",
       "    }\n",
       "\n",
       "    .dataframe tbody tr th {\n",
       "        vertical-align: top;\n",
       "    }\n",
       "\n",
       "    .dataframe thead th {\n",
       "        text-align: right;\n",
       "    }\n",
       "</style>\n",
       "<table border=\"1\" class=\"dataframe\">\n",
       "  <thead>\n",
       "    <tr style=\"text-align: right;\">\n",
       "      <th></th>\n",
       "      <th>PassengerId</th>\n",
       "      <th>Survived</th>\n",
       "      <th>Pclass</th>\n",
       "      <th>Sex</th>\n",
       "      <th>Age</th>\n",
       "      <th>SibSp</th>\n",
       "      <th>Parch</th>\n",
       "      <th>Fare</th>\n",
       "      <th>Embarked</th>\n",
       "    </tr>\n",
       "  </thead>\n",
       "  <tbody>\n",
       "    <tr>\n",
       "      <th>0</th>\n",
       "      <td>1</td>\n",
       "      <td>0</td>\n",
       "      <td>3</td>\n",
       "      <td>1</td>\n",
       "      <td>22.0</td>\n",
       "      <td>1</td>\n",
       "      <td>0</td>\n",
       "      <td>7.2500</td>\n",
       "      <td>2</td>\n",
       "    </tr>\n",
       "    <tr>\n",
       "      <th>1</th>\n",
       "      <td>2</td>\n",
       "      <td>1</td>\n",
       "      <td>1</td>\n",
       "      <td>0</td>\n",
       "      <td>38.0</td>\n",
       "      <td>1</td>\n",
       "      <td>0</td>\n",
       "      <td>71.2833</td>\n",
       "      <td>0</td>\n",
       "    </tr>\n",
       "    <tr>\n",
       "      <th>2</th>\n",
       "      <td>3</td>\n",
       "      <td>1</td>\n",
       "      <td>3</td>\n",
       "      <td>0</td>\n",
       "      <td>26.0</td>\n",
       "      <td>0</td>\n",
       "      <td>0</td>\n",
       "      <td>7.9250</td>\n",
       "      <td>2</td>\n",
       "    </tr>\n",
       "    <tr>\n",
       "      <th>3</th>\n",
       "      <td>4</td>\n",
       "      <td>1</td>\n",
       "      <td>1</td>\n",
       "      <td>0</td>\n",
       "      <td>35.0</td>\n",
       "      <td>1</td>\n",
       "      <td>0</td>\n",
       "      <td>53.1000</td>\n",
       "      <td>2</td>\n",
       "    </tr>\n",
       "    <tr>\n",
       "      <th>4</th>\n",
       "      <td>5</td>\n",
       "      <td>0</td>\n",
       "      <td>3</td>\n",
       "      <td>1</td>\n",
       "      <td>35.0</td>\n",
       "      <td>0</td>\n",
       "      <td>0</td>\n",
       "      <td>8.0500</td>\n",
       "      <td>2</td>\n",
       "    </tr>\n",
       "  </tbody>\n",
       "</table>\n",
       "</div>"
      ],
      "text/plain": [
       "   PassengerId  Survived  Pclass  Sex   Age  SibSp  Parch     Fare  Embarked\n",
       "0            1         0       3    1  22.0      1      0   7.2500         2\n",
       "1            2         1       1    0  38.0      1      0  71.2833         0\n",
       "2            3         1       3    0  26.0      0      0   7.9250         2\n",
       "3            4         1       1    0  35.0      1      0  53.1000         2\n",
       "4            5         0       3    1  35.0      0      0   8.0500         2"
      ]
     },
     "execution_count": 2,
     "metadata": {},
     "output_type": "execute_result"
    }
   ],
   "source": [
    "data['Age']=data['Age'].fillna(0)\n",
    "\n",
    "sex=LabelEncoder()\n",
    "sex.fit(data['Sex'])\n",
    "data['Sex']=sex.transform(data['Sex'])\n",
    "\n",
    "embarked=LabelEncoder()\n",
    "embarked.fit(data['Embarked'])\n",
    "data['Embarked']=embarked.transform(data['Embarked'])\n",
    "data.head()"
   ]
  },
  {
   "cell_type": "code",
   "execution_count": 3,
   "id": "4d146c1d",
   "metadata": {},
   "outputs": [
    {
     "data": {
      "text/plain": [
       "array([6.98230591e-01, 2.28218083e-01, 8.00000000e+01, 1.21467827e+00,\n",
       "       6.48999031e-01, 5.12329200e+02, 6.30094435e-01])"
      ]
     },
     "execution_count": 3,
     "metadata": {},
     "output_type": "execute_result"
    }
   ],
   "source": [
    "from sklearn.feature_selection import SelectKBest,VarianceThreshold,chi2,f_classif,f_regression,mutual_info_classif\n",
    "#1.方差选择\n",
    "\n",
    "X=data[['Pclass','Sex','Age','SibSp','Parch','Fare','Embarked']]\n",
    "y=data['Survived']\n",
    "var_filter=VarianceThreshold()\n",
    "var_filter.fit_transform(X)\n",
    "#可以看到对于 分类变量方差本来就是比较小的,然后对方差较小的value count偏移的不是十分厉害\n",
    "var_filter.variances_"
   ]
  },
  {
   "cell_type": "code",
   "execution_count": 4,
   "id": "4e56bedc",
   "metadata": {},
   "outputs": [
    {
     "name": "stdout",
     "output_type": "stream",
     "text": [
      "[ True  True  True  True False  True False]\n",
      "[1 1 1 1 2 1 3]\n"
     ]
    }
   ],
   "source": [
    "#带交叉验证\n",
    "from sklearn.feature_selection import RFE\n",
    "from sklearn.ensemble import GradientBoostingClassifier\n",
    "\n",
    "estimator = GradientBoostingClassifier()\n",
    "selector = RFE(estimator, n_features_to_select=5, step=1)\n",
    "selector = selector.fit(X, y)\n",
    "\n",
    "print(selector.support_)\n",
    "print(selector.ranking_)\n",
    "\n"
   ]
  },
  {
   "cell_type": "code",
   "execution_count": 5,
   "id": "be81820c",
   "metadata": {},
   "outputs": [
    {
     "name": "stdout",
     "output_type": "stream",
     "text": [
      "[ True  True  True False False  True False]\n",
      "[1 1 1 2 3 1 4]\n"
     ]
    }
   ],
   "source": [
    "from sklearn.feature_selection import RFECV\n",
    "from sklearn.svm import SVR\n",
    "\n",
    "estimator = GradientBoostingClassifier()\n",
    "selector = RFECV(estimator, step=1, cv=5)\n",
    "selector = selector.fit(X, y)\n",
    "print(selector.support_)\n",
    "\n",
    "print(selector.ranking_)\n"
   ]
  },
  {
   "cell_type": "code",
   "execution_count": 6,
   "id": "53d7291b",
   "metadata": {},
   "outputs": [
    {
     "name": "stdout",
     "output_type": "stream",
     "text": [
      "[0]\ttrain-error:0.15495\ttest-error:0.19763\n",
      "[1]\ttrain-error:0.14146\ttest-error:0.20064\n",
      "[2]\ttrain-error:0.13324\ttest-error:0.19914\n",
      "[3]\ttrain-error:0.12762\ttest-error:0.19762\n",
      "[4]\ttrain-error:0.12874\ttest-error:0.18864\n",
      "[5]\ttrain-error:0.12201\ttest-error:0.19162\n",
      "[6]\ttrain-error:0.11302\ttest-error:0.18716\n",
      "[7]\ttrain-error:0.11228\ttest-error:0.18863\n",
      "[8]\ttrain-error:0.11041\ttest-error:0.19313\n",
      "[9]\ttrain-error:0.10741\ttest-error:0.18564\n"
     ]
    },
    {
     "name": "stderr",
     "output_type": "stream",
     "text": [
      "C:\\Users\\Lenovo\\AppData\\Local\\Programs\\Python\\Python39\\lib\\site-packages\\xgboost\\training.py:17: UserWarning: Old style callback is deprecated.  See: https://xgboost.readthedocs.io/en/latest/python/callbacks.html\n",
      "  warnings.warn(f'Old style callback is deprecated.  See: {link}', UserWarning)\n",
      "C:\\Users\\Lenovo\\AppData\\Local\\Programs\\Python\\Python39\\lib\\site-packages\\xgboost\\sklearn.py:1146: UserWarning: The use of label encoder in XGBClassifier is deprecated and will be removed in a future release. To remove this warning, do the following: 1) Pass option use_label_encoder=False when constructing XGBClassifier object; and 2) Encode your labels (y) as integers starting with 0, i.e. 0, 1, 2, ..., [num_class - 1].\n",
      "  warnings.warn(label_encoder_deprecation_msg, UserWarning)\n"
     ]
    }
   ],
   "source": [
    "#可见RFECV和RFE效果差不多都是Embarked和Parch是有问题的.\n",
    "\n",
    "data_1=data[['PassengerId','Survived','Pclass','Sex','Age','SibSp','Parch','Fare','Embarked']] #去掉可能的无关值\n",
    "data_1.head()\n",
    "\n",
    "X=data_1[[x for x in data_1.columns if x not in ['Survived','PassengerId','Embarked','Parch']]]\n",
    "y=data_1['Survived']\n",
    "X_train, X_val, y_train, y_val = train_test_split(X, y, random_state=49)\n",
    "xgb_reg = xgb.XGBClassifier()\n",
    "xgb_param = xgb_reg.get_xgb_params()\n",
    "xgtrain = xgb.DMatrix(X_train, label=y_train)\n",
    "cvresult = xgb.cv(xgb_param, xgtrain, num_boost_round=10, nfold=5,\n",
    "             metrics={'error'}, seed=0,\n",
    "             callbacks=[xgb.callback.print_evaluation(show_stdv=False)\n",
    "                       # ,xgb.callback.early_stop(3)\n",
    "                       ])\n",
    "xgb_reg.set_params(n_estimators=cvresult.shape[0])#把clf的参数设置成最好的树对应的参数\n",
    "xgb_reg.fit(X_train, y_train, eval_metric='auc')\n",
    "y_pred = xgb_reg.predict(X_val)\n",
    "y_score = xgb_reg.predict_proba(X_val)"
   ]
  },
  {
   "cell_type": "code",
   "execution_count": 7,
   "id": "ef83d6fa",
   "metadata": {},
   "outputs": [
    {
     "name": "stdout",
     "output_type": "stream",
     "text": [
      "测试集准确率: 0.8430493273542601\n",
      "测试集精度: 0.7887323943661971\n",
      "测试集召回率: 0.7368421052631579\n",
      "auc: 0.8844432509846043\n"
     ]
    }
   ],
   "source": [
    "print('测试集准确率:',accuracy_score(y_val, y_pred))\n",
    "print('测试集精度:',precision_score(y_val, y_pred))\n",
    "print('测试集召回率:',recall_score(y_val, y_pred))\n",
    "print('auc:',roc_auc_score(y_val, y_score[:,1]))"
   ]
  },
  {
   "cell_type": "code",
   "execution_count": 8,
   "id": "daeeb806",
   "metadata": {},
   "outputs": [],
   "source": [
    "#生成\n",
    "data_test=pd.read_csv(r'D:\\书籍资料整理\\kaggle\\titanic\\test.csv')\n",
    "data_test=data_test[['PassengerId','Pclass','Sex','Age','SibSp','Parch','Fare','Embarked']] #去掉可能的无关值\n",
    "data_test['Sex']=sex.transform(data_test['Sex'])\n",
    "data_test['Embarked']=embarked.transform(data_test['Embarked'])\n",
    "data_test.head()\n",
    "X_test=data_test[[x for x in data_test.columns if x not in ['PassengerId','Embarked']]]\n",
    "y_test_pre=xgb_reg.predict(X_test)\n",
    "data_test['Survived']=y_test_pre\n",
    "data_test.head()\n",
    "data_test=data_test[['PassengerId','Survived']]\n",
    "data_test.to_csv(r'D:\\书籍资料整理\\kaggle\\titanic\\output.csv',index=False)"
   ]
  },
  {
   "cell_type": "code",
   "execution_count": null,
   "id": "2feda346",
   "metadata": {},
   "outputs": [],
   "source": []
  }
 ],
 "metadata": {
  "kernelspec": {
   "display_name": "Python 3 (ipykernel)",
   "language": "python",
   "name": "python3"
  },
  "language_info": {
   "codemirror_mode": {
    "name": "ipython",
    "version": 3
   },
   "file_extension": ".py",
   "mimetype": "text/x-python",
   "name": "python",
   "nbconvert_exporter": "python",
   "pygments_lexer": "ipython3",
   "version": "3.9.6"
  }
 },
 "nbformat": 4,
 "nbformat_minor": 5
}
