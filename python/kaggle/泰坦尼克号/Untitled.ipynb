{
 "cells": [
  {
   "cell_type": "code",
   "execution_count": null,
   "id": "fb3dab36",
   "metadata": {},
   "outputs": [],
   "source": [
    "import pandas as pd\n",
    "from sklearn.preprocessing import LabelEncoder\n",
    "import xgboost as xgb\n",
    "import joblib\n",
    "from sklearn.model_selection import train_test_split\n",
    "from sklearn.feature_selection import VarianceThreshold\n",
    "from sklearn.metrics import precision_score, recall_score,accuracy_score,f1_score,roc_auc_score,mean_squared_error\n",
    "from sklearn.metrics import log_loss\n",
    "data=pd.read_csv(r'D:\\书籍资料整理\\kaggle\\titanic\\train.csv')\n",
    "data=data[['PassengerId','Survived','Pclass','Sex','Age','SibSp','Parch','Fare','Embarked']] #去掉可能的无关值"
   ]
  },
  {
   "cell_type": "code",
   "execution_count": null,
   "id": "df55378e",
   "metadata": {},
   "outputs": [],
   "source": [
    "data['Age']=data['Age'].fillna(0)\n",
    "\n",
    "sex=LabelEncoder()\n",
    "sex.fit(data['Sex'])\n",
    "data['Sex']=sex.transform(data['Sex'])\n",
    "\n",
    "embarked=LabelEncoder()\n",
    "embarked.fit(data['Embarked'])\n",
    "data['Embarked']=embarked.transform(data['Embarked'])\n",
    "data.head()"
   ]
  },
  {
   "cell_type": "code",
   "execution_count": null,
   "id": "4d146c1d",
   "metadata": {},
   "outputs": [],
   "source": [
    "from sklearn.feature_selection import SelectKBest,VarianceThreshold,chi2,f_classif,f_regression,mutual_info_classif\n",
    "#1.方差选择\n",
    "\n",
    "X=data[['Pclass','Sex','Age','SibSp','Parch','Fare','Embarked']]\n",
    "var_filter=VarianceThreshold()\n",
    "var_filter.fit_transform(X)\n",
    "#可以看到对于 分类变量方差本来就是比较小的,然后对方差较小的value count偏移的不是十分厉害\n",
    "var_filter.variances_"
   ]
  },
  {
   "cell_type": "code",
   "execution_count": null,
   "id": "4e56bedc",
   "metadata": {},
   "outputs": [],
   "source": [
    "#带交叉验证"
   ]
  }
 ],
 "metadata": {
  "kernelspec": {
   "display_name": "Python 3 (ipykernel)",
   "language": "python",
   "name": "python3"
  },
  "language_info": {
   "codemirror_mode": {
    "name": "ipython",
    "version": 3
   },
   "file_extension": ".py",
   "mimetype": "text/x-python",
   "name": "python",
   "nbconvert_exporter": "python",
   "pygments_lexer": "ipython3",
   "version": "3.9.6"
  }
 },
 "nbformat": 4,
 "nbformat_minor": 5
}
