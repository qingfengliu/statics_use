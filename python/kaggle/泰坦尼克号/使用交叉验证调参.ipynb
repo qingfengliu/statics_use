{
 "cells": [
  {
   "cell_type": "code",
   "execution_count": 1,
   "id": "cb3bbf58",
   "metadata": {},
   "outputs": [],
   "source": [
    "import pandas as pd\n",
    "from sklearn.preprocessing import LabelEncoder\n",
    "import xgboost as xgb\n",
    "import joblib\n",
    "from sklearn.model_selection import train_test_split\n",
    "from sklearn.feature_selection import VarianceThreshold\n",
    "from sklearn.metrics import precision_score, recall_score,accuracy_score,f1_score,roc_auc_score,mean_squared_error\n",
    "from sklearn.metrics import log_loss\n",
    "data=pd.read_csv(r'D:\\书籍资料整理\\kaggle\\titanic\\train.csv')\n",
    "\n",
    "#注释一下列名\n",
    "#survival\t是否存活\t0 = No, 1 = Yes\n",
    "#pclass\t票类型\t1 = 1st, 2 = 2nd, 3 = 3rd\n",
    "#sex\t性别\t\n",
    "#Age\t年龄\t\n",
    "#sibsp\t泰坦尼克号上的兄弟姐妹/配偶\t\n",
    "#parch\t# 泰坦尼克号上的父母/孩子\t\n",
    "#ticket\tTicket number\t票号\n",
    "#fare\t票价\t\n",
    "#cabin\t房间号\t\n",
    "#embarked\t出发港\tC =  瑟堡, Q = 昆士城, S = 南安普敦\n",
    "data=data[['PassengerId','Survived','Pclass','Sex','Age','SibSp','Parch','Fare','Embarked']] #去掉可能的无关值"
   ]
  },
  {
   "cell_type": "code",
   "execution_count": null,
   "id": "55d6bce8",
   "metadata": {},
   "outputs": [],
   "source": []
  },
  {
   "cell_type": "code",
   "execution_count": 2,
   "id": "4a584780",
   "metadata": {},
   "outputs": [
    {
     "data": {
      "text/html": [
       "<div>\n",
       "<style scoped>\n",
       "    .dataframe tbody tr th:only-of-type {\n",
       "        vertical-align: middle;\n",
       "    }\n",
       "\n",
       "    .dataframe tbody tr th {\n",
       "        vertical-align: top;\n",
       "    }\n",
       "\n",
       "    .dataframe thead th {\n",
       "        text-align: right;\n",
       "    }\n",
       "</style>\n",
       "<table border=\"1\" class=\"dataframe\">\n",
       "  <thead>\n",
       "    <tr style=\"text-align: right;\">\n",
       "      <th></th>\n",
       "      <th>PassengerId</th>\n",
       "      <th>Survived</th>\n",
       "      <th>Pclass</th>\n",
       "      <th>Sex</th>\n",
       "      <th>Age</th>\n",
       "      <th>SibSp</th>\n",
       "      <th>Parch</th>\n",
       "      <th>Fare</th>\n",
       "      <th>Embarked</th>\n",
       "    </tr>\n",
       "  </thead>\n",
       "  <tbody>\n",
       "    <tr>\n",
       "      <th>0</th>\n",
       "      <td>1</td>\n",
       "      <td>0</td>\n",
       "      <td>3</td>\n",
       "      <td>1</td>\n",
       "      <td>22.0</td>\n",
       "      <td>1</td>\n",
       "      <td>0</td>\n",
       "      <td>7.2500</td>\n",
       "      <td>2</td>\n",
       "    </tr>\n",
       "    <tr>\n",
       "      <th>1</th>\n",
       "      <td>2</td>\n",
       "      <td>1</td>\n",
       "      <td>1</td>\n",
       "      <td>0</td>\n",
       "      <td>38.0</td>\n",
       "      <td>1</td>\n",
       "      <td>0</td>\n",
       "      <td>71.2833</td>\n",
       "      <td>0</td>\n",
       "    </tr>\n",
       "    <tr>\n",
       "      <th>2</th>\n",
       "      <td>3</td>\n",
       "      <td>1</td>\n",
       "      <td>3</td>\n",
       "      <td>0</td>\n",
       "      <td>26.0</td>\n",
       "      <td>0</td>\n",
       "      <td>0</td>\n",
       "      <td>7.9250</td>\n",
       "      <td>2</td>\n",
       "    </tr>\n",
       "    <tr>\n",
       "      <th>3</th>\n",
       "      <td>4</td>\n",
       "      <td>1</td>\n",
       "      <td>1</td>\n",
       "      <td>0</td>\n",
       "      <td>35.0</td>\n",
       "      <td>1</td>\n",
       "      <td>0</td>\n",
       "      <td>53.1000</td>\n",
       "      <td>2</td>\n",
       "    </tr>\n",
       "    <tr>\n",
       "      <th>4</th>\n",
       "      <td>5</td>\n",
       "      <td>0</td>\n",
       "      <td>3</td>\n",
       "      <td>1</td>\n",
       "      <td>35.0</td>\n",
       "      <td>0</td>\n",
       "      <td>0</td>\n",
       "      <td>8.0500</td>\n",
       "      <td>2</td>\n",
       "    </tr>\n",
       "  </tbody>\n",
       "</table>\n",
       "</div>"
      ],
      "text/plain": [
       "   PassengerId  Survived  Pclass  Sex   Age  SibSp  Parch     Fare  Embarked\n",
       "0            1         0       3    1  22.0      1      0   7.2500         2\n",
       "1            2         1       1    0  38.0      1      0  71.2833         0\n",
       "2            3         1       3    0  26.0      0      0   7.9250         2\n",
       "3            4         1       1    0  35.0      1      0  53.1000         2\n",
       "4            5         0       3    1  35.0      0      0   8.0500         2"
      ]
     },
     "execution_count": 2,
     "metadata": {},
     "output_type": "execute_result"
    }
   ],
   "source": [
    "sex=LabelEncoder()\n",
    "sex.fit(data['Sex'])\n",
    "data['Sex']=sex.transform(data['Sex'])\n",
    "\n",
    "embarked=LabelEncoder()\n",
    "embarked.fit(data['Embarked'])\n",
    "data['Embarked']=embarked.transform(data['Embarked'])\n",
    "data.head()"
   ]
  },
  {
   "cell_type": "code",
   "execution_count": 3,
   "id": "861856cd",
   "metadata": {},
   "outputs": [],
   "source": [
    "X=data[[x for x in data.columns if x not in ['Survived','PassengerId']]]\n",
    "y=data['Survived']\n",
    "X_train, X_val, y_train, y_val = train_test_split(X, y, random_state=49)\n",
    "xgb_reg = xgb.XGBClassifier()"
   ]
  },
  {
   "cell_type": "code",
   "execution_count": 24,
   "id": "2e5a8286",
   "metadata": {},
   "outputs": [
    {
     "name": "stdout",
     "output_type": "stream",
     "text": [
      "{'learning_rate': [0.005, 0.001, 0.01, 0.1, 0.2, 0.3]}\n",
      "[16:22:41] WARNING: C:/Users/Administrator/workspace/xgboost-win64_release_1.4.0/src/learner.cc:1095: Starting in XGBoost 1.3.0, the default evaluation metric used with the objective 'binary:logistic' was changed from 'error' to 'logloss'. Explicitly set eval_metric if you'd like to restore the old behavior.\n",
      "{'learning_rate': 0.3}\n"
     ]
    },
    {
     "name": "stderr",
     "output_type": "stream",
     "text": [
      "d:\\users\\50477\\appdata\\local\\programs\\python\\python38\\lib\\site-packages\\xgboost\\sklearn.py:1146: UserWarning: The use of label encoder in XGBClassifier is deprecated and will be removed in a future release. To remove this warning, do the following: 1) Pass option use_label_encoder=False when constructing XGBClassifier object; and 2) Encode your labels (y) as integers starting with 0, i.e. 0, 1, 2, ..., [num_class - 1].\n",
      "  warnings.warn(label_encoder_deprecation_msg, UserWarning)\n"
     ]
    }
   ],
   "source": [
    "from sklearn.model_selection import GridSearchCV\n",
    "from sklearn.model_selection import StratifiedKFold\n",
    "\n",
    "xgb_param = xgb_reg.get_xgb_params()\n",
    "xgtrain = xgb.DMatrix(X_train, label=y_train)\n",
    "\n",
    "model = xgb.XGBClassifier(n_estimators=15,max_depth=6)\n",
    "\n",
    "param_grid = {'learning_rate': [0.005, 0.001, 0.01, 0.1, 0.2, 0.3]}\n",
    "print(param_grid)\n",
    "kfold = StratifiedKFold(n_splits=10, shuffle=True, random_state=7)\n",
    "grid_search = GridSearchCV(model, param_grid, scoring=\"neg_log_loss\", n_jobs=-1, cv=kfold)\n",
    "grid_result = grid_search.fit(X, y)\n",
    "print(grid_search.best_params_)"
   ]
  },
  {
   "cell_type": "code",
   "execution_count": 38,
   "id": "286e904a",
   "metadata": {},
   "outputs": [
    {
     "name": "stdout",
     "output_type": "stream",
     "text": [
      "[0]\ttrain-error:0.16280\ttest-error:0.21417\n",
      "[1]\ttrain-error:0.16393\ttest-error:0.20663\n",
      "[2]\ttrain-error:0.15719\ttest-error:0.19464\n",
      "[3]\ttrain-error:0.15569\ttest-error:0.19765\n",
      "[4]\ttrain-error:0.15158\ttest-error:0.19916\n",
      "[5]\ttrain-error:0.15120\ttest-error:0.19615\n",
      "[6]\ttrain-error:0.14971\ttest-error:0.19166\n",
      "[7]\ttrain-error:0.14858\ttest-error:0.18869\n",
      "[8]\ttrain-error:0.14335\ttest-error:0.19017\n",
      "[9]\ttrain-error:0.13960\ttest-error:0.19166\n",
      "[10]\ttrain-error:0.13436\ttest-error:0.19466\n",
      "[11]\ttrain-error:0.13287\ttest-error:0.19016\n",
      "[12]\ttrain-error:0.13137\ttest-error:0.18419\n",
      "[13]\ttrain-error:0.12388\ttest-error:0.18870\n",
      "[14]\ttrain-error:0.12201\ttest-error:0.19018\n",
      "[15]\ttrain-error:0.11677\ttest-error:0.18265\n",
      "[16]\ttrain-error:0.11639\ttest-error:0.18415\n",
      "[17]\ttrain-error:0.11490\ttest-error:0.18863\n",
      "[18]\ttrain-error:0.11415\ttest-error:0.19312\n",
      "[19]\ttrain-error:0.10929\ttest-error:0.19312\n",
      "[20]\ttrain-error:0.10854\ttest-error:0.19313\n",
      "[21]\ttrain-error:0.10816\ttest-error:0.19165\n",
      "[22]\ttrain-error:0.10704\ttest-error:0.19314\n"
     ]
    },
    {
     "name": "stderr",
     "output_type": "stream",
     "text": [
      "d:\\users\\50477\\appdata\\local\\programs\\python\\python38\\lib\\site-packages\\xgboost\\training.py:17: UserWarning: Old style callback is deprecated.  See: https://xgboost.readthedocs.io/en/latest/python/callbacks.html\n",
      "  warnings.warn(f'Old style callback is deprecated.  See: {link}', UserWarning)\n"
     ]
    },
    {
     "name": "stdout",
     "output_type": "stream",
     "text": [
      "[23]\ttrain-error:0.10667\ttest-error:0.19166\n",
      "[24]\ttrain-error:0.10442\ttest-error:0.19465\n",
      "[25]\ttrain-error:0.10180\ttest-error:0.19164\n",
      "[26]\ttrain-error:0.10068\ttest-error:0.18865\n",
      "[27]\ttrain-error:0.09918\ttest-error:0.18567\n",
      "[28]\ttrain-error:0.09619\ttest-error:0.18418\n",
      "[29]\ttrain-error:0.09507\ttest-error:0.18268\n",
      "[30]\ttrain-error:0.09207\ttest-error:0.18716\n",
      "[31]\ttrain-error:0.09058\ttest-error:0.17971\n",
      "[32]\ttrain-error:0.08871\ttest-error:0.18419\n",
      "[33]\ttrain-error:0.08983\ttest-error:0.18868\n",
      "[34]\ttrain-error:0.08795\ttest-error:0.18420\n",
      "[35]\ttrain-error:0.08608\ttest-error:0.18268\n",
      "[36]\ttrain-error:0.08309\ttest-error:0.18716\n",
      "[37]\ttrain-error:0.08234\ttest-error:0.18567\n",
      "[38]\ttrain-error:0.08122\ttest-error:0.18568\n",
      "[39]\ttrain-error:0.08084\ttest-error:0.19166\n",
      "[40]\ttrain-error:0.08084\ttest-error:0.18565\n",
      "[41]\ttrain-error:0.08122\ttest-error:0.19012\n",
      "[42]\ttrain-error:0.07935\ttest-error:0.19163\n",
      "[43]\ttrain-error:0.07860\ttest-error:0.19461\n",
      "[44]\ttrain-error:0.07635\ttest-error:0.19462\n",
      "[45]\ttrain-error:0.07523\ttest-error:0.19164\n",
      "[46]\ttrain-error:0.07374\ttest-error:0.18567\n",
      "[47]\ttrain-error:0.07523\ttest-error:0.18566\n",
      "[48]\ttrain-error:0.07411\ttest-error:0.18715\n",
      "[49]\ttrain-error:0.07186\ttest-error:0.19163\n",
      "50\n"
     ]
    },
    {
     "data": {
      "text/plain": [
       "XGBClassifier(base_score=0.5, booster='gbtree', colsample_bylevel=1,\n",
       "              colsample_bynode=1, colsample_bytree=1, gamma=0, gpu_id=-1,\n",
       "              importance_type='gain', interaction_constraints='',\n",
       "              learning_rate=0.300000012, max_delta_step=0, max_depth=5,\n",
       "              min_child_weight=1, missing=nan, monotone_constraints='()',\n",
       "              n_estimators=22, n_jobs=8, num_parallel_tree=1, random_state=0,\n",
       "              reg_alpha=0, reg_lambda=1, scale_pos_weight=1, subsample=1,\n",
       "              tree_method='exact', validate_parameters=1, verbosity=None)"
      ]
     },
     "execution_count": 38,
     "metadata": {},
     "output_type": "execute_result"
    }
   ],
   "source": [
    "xgb_param = xgb_reg.get_xgb_params()\n",
    "xgtrain = xgb.DMatrix(X_train, label=y_train)\n",
    "cvresult = xgb.cv(xgb_param, xgtrain, num_boost_round=50, nfold=5,\n",
    "             metrics={'error'}, seed=0,\n",
    "             callbacks=[xgb.callback.print_evaluation(show_stdv=False)\n",
    "                       # ,xgb.callback.early_stop(3)\n",
    "                       ])\n",
    "print(cvresult.shape[0])\n",
    "xgb_reg.set_params(n_estimators=22,max_depth=5)#把clf的参数设置成最好的树对应的参数"
   ]
  },
  {
   "cell_type": "code",
   "execution_count": 39,
   "id": "e7d23d53",
   "metadata": {},
   "outputs": [
    {
     "name": "stderr",
     "output_type": "stream",
     "text": [
      "d:\\users\\50477\\appdata\\local\\programs\\python\\python38\\lib\\site-packages\\xgboost\\sklearn.py:1146: UserWarning: The use of label encoder in XGBClassifier is deprecated and will be removed in a future release. To remove this warning, do the following: 1) Pass option use_label_encoder=False when constructing XGBClassifier object; and 2) Encode your labels (y) as integers starting with 0, i.e. 0, 1, 2, ..., [num_class - 1].\n",
      "  warnings.warn(label_encoder_deprecation_msg, UserWarning)\n"
     ]
    }
   ],
   "source": [
    "xgb_reg.fit(X_train, y_train, eval_metric='auc')\n",
    "y_pred = xgb_reg.predict(X_val)\n",
    "y_score = xgb_reg.predict_proba(X_val)"
   ]
  },
  {
   "cell_type": "code",
   "execution_count": 40,
   "id": "82bb8bd6",
   "metadata": {},
   "outputs": [
    {
     "name": "stdout",
     "output_type": "stream",
     "text": [
      "测试集准确率: 0.8565022421524664\n",
      "测试集精度: 0.7972972972972973\n",
      "测试集召回率: 0.7763157894736842\n",
      "auc: 0.8972878625134264\n"
     ]
    }
   ],
   "source": [
    "print('测试集准确率:',accuracy_score(y_val, y_pred))\n",
    "print('测试集精度:',precision_score(y_val, y_pred))\n",
    "print('测试集召回率:',recall_score(y_val, y_pred))\n",
    "print('auc:',roc_auc_score(y_val, y_score[:,1]))"
   ]
  },
  {
   "cell_type": "code",
   "execution_count": 41,
   "id": "80303aea",
   "metadata": {},
   "outputs": [
    {
     "data": {
      "text/plain": [
       "4.95629075604751"
      ]
     },
     "execution_count": 41,
     "metadata": {},
     "output_type": "execute_result"
    }
   ],
   "source": [
    "log_loss(y_val, y_pred)"
   ]
  },
  {
   "cell_type": "code",
   "execution_count": 42,
   "id": "3510c0d7",
   "metadata": {},
   "outputs": [],
   "source": [
    "data_test=pd.read_csv(r'D:\\书籍资料整理\\kaggle\\titanic\\test.csv')\n",
    "data_test=data_test[['PassengerId','Pclass','Sex','Age','SibSp','Parch','Fare','Embarked']] #去掉可能的无关值\n",
    "data_test['Sex']=sex.transform(data_test['Sex'])\n",
    "data_test['Embarked']=embarked.transform(data_test['Embarked'])\n",
    "data_test.head()\n",
    "\n",
    "#Pclass\tSex\tAge\tSibSp\tParch\tFare\tEmbarked\n",
    "X_test=data_test[[x for x in data_test.columns if x not in ['PassengerId']]]"
   ]
  },
  {
   "cell_type": "code",
   "execution_count": 43,
   "id": "c671b6bf",
   "metadata": {},
   "outputs": [
    {
     "data": {
      "text/html": [
       "<div>\n",
       "<style scoped>\n",
       "    .dataframe tbody tr th:only-of-type {\n",
       "        vertical-align: middle;\n",
       "    }\n",
       "\n",
       "    .dataframe tbody tr th {\n",
       "        vertical-align: top;\n",
       "    }\n",
       "\n",
       "    .dataframe thead th {\n",
       "        text-align: right;\n",
       "    }\n",
       "</style>\n",
       "<table border=\"1\" class=\"dataframe\">\n",
       "  <thead>\n",
       "    <tr style=\"text-align: right;\">\n",
       "      <th></th>\n",
       "      <th>PassengerId</th>\n",
       "      <th>Pclass</th>\n",
       "      <th>Sex</th>\n",
       "      <th>Age</th>\n",
       "      <th>SibSp</th>\n",
       "      <th>Parch</th>\n",
       "      <th>Fare</th>\n",
       "      <th>Embarked</th>\n",
       "      <th>Survived</th>\n",
       "    </tr>\n",
       "  </thead>\n",
       "  <tbody>\n",
       "    <tr>\n",
       "      <th>0</th>\n",
       "      <td>892</td>\n",
       "      <td>3</td>\n",
       "      <td>1</td>\n",
       "      <td>34.5</td>\n",
       "      <td>0</td>\n",
       "      <td>0</td>\n",
       "      <td>7.8292</td>\n",
       "      <td>1</td>\n",
       "      <td>0</td>\n",
       "    </tr>\n",
       "    <tr>\n",
       "      <th>1</th>\n",
       "      <td>893</td>\n",
       "      <td>3</td>\n",
       "      <td>0</td>\n",
       "      <td>47.0</td>\n",
       "      <td>1</td>\n",
       "      <td>0</td>\n",
       "      <td>7.0000</td>\n",
       "      <td>2</td>\n",
       "      <td>0</td>\n",
       "    </tr>\n",
       "    <tr>\n",
       "      <th>2</th>\n",
       "      <td>894</td>\n",
       "      <td>2</td>\n",
       "      <td>1</td>\n",
       "      <td>62.0</td>\n",
       "      <td>0</td>\n",
       "      <td>0</td>\n",
       "      <td>9.6875</td>\n",
       "      <td>1</td>\n",
       "      <td>0</td>\n",
       "    </tr>\n",
       "    <tr>\n",
       "      <th>3</th>\n",
       "      <td>895</td>\n",
       "      <td>3</td>\n",
       "      <td>1</td>\n",
       "      <td>27.0</td>\n",
       "      <td>0</td>\n",
       "      <td>0</td>\n",
       "      <td>8.6625</td>\n",
       "      <td>2</td>\n",
       "      <td>0</td>\n",
       "    </tr>\n",
       "    <tr>\n",
       "      <th>4</th>\n",
       "      <td>896</td>\n",
       "      <td>3</td>\n",
       "      <td>0</td>\n",
       "      <td>22.0</td>\n",
       "      <td>1</td>\n",
       "      <td>1</td>\n",
       "      <td>12.2875</td>\n",
       "      <td>2</td>\n",
       "      <td>0</td>\n",
       "    </tr>\n",
       "  </tbody>\n",
       "</table>\n",
       "</div>"
      ],
      "text/plain": [
       "   PassengerId  Pclass  Sex   Age  SibSp  Parch     Fare  Embarked  Survived\n",
       "0          892       3    1  34.5      0      0   7.8292         1         0\n",
       "1          893       3    0  47.0      1      0   7.0000         2         0\n",
       "2          894       2    1  62.0      0      0   9.6875         1         0\n",
       "3          895       3    1  27.0      0      0   8.6625         2         0\n",
       "4          896       3    0  22.0      1      1  12.2875         2         0"
      ]
     },
     "execution_count": 43,
     "metadata": {},
     "output_type": "execute_result"
    }
   ],
   "source": [
    "y_test_pre=xgb_reg.predict(X_test)\n",
    "data_test['Survived']=y_test_pre\n",
    "data_test.head()"
   ]
  },
  {
   "cell_type": "code",
   "execution_count": 44,
   "id": "190262d6",
   "metadata": {},
   "outputs": [],
   "source": [
    "data_test=data_test[['PassengerId','Survived']]\n",
    "data_test.to_csv(r'D:\\书籍资料整理\\kaggle\\titanic\\output.csv',index=False)"
   ]
  },
  {
   "cell_type": "code",
   "execution_count": null,
   "id": "6d77a820",
   "metadata": {},
   "outputs": [],
   "source": []
  },
  {
   "cell_type": "code",
   "execution_count": 45,
   "id": "67047d50",
   "metadata": {},
   "outputs": [
    {
     "name": "stdout",
     "output_type": "stream",
     "text": [
      "Pclass 0.16923618\n",
      "Sex 0.6247363\n",
      "Age 0.039216634\n",
      "SibSp 0.0680493\n",
      "Parch 0.025624253\n",
      "Fare 0.042688314\n",
      "Embarked 0.03044906\n"
     ]
    }
   ],
   "source": [
    "for name, score in zip([x for x in X.columns], xgb_reg.feature_importances_):\n",
    "    print(name, score)"
   ]
  },
  {
   "cell_type": "code",
   "execution_count": null,
   "id": "8741c652",
   "metadata": {},
   "outputs": [],
   "source": []
  }
 ],
 "metadata": {
  "kernelspec": {
   "display_name": "Python 3 (ipykernel)",
   "language": "python",
   "name": "python3"
  },
  "language_info": {
   "codemirror_mode": {
    "name": "ipython",
    "version": 3
   },
   "file_extension": ".py",
   "mimetype": "text/x-python",
   "name": "python",
   "nbconvert_exporter": "python",
   "pygments_lexer": "ipython3",
   "version": "3.8.3"
  }
 },
 "nbformat": 4,
 "nbformat_minor": 5
}
