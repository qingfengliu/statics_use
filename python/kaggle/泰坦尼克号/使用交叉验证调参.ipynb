{
 "cells": [
  {
   "cell_type": "code",
   "execution_count": 4,
   "id": "cb3bbf58",
   "metadata": {},
   "outputs": [],
   "source": [
    "import pandas as pd\n",
    "from sklearn.preprocessing import LabelEncoder\n",
    "import xgboost as xgb\n",
    "import joblib\n",
    "from sklearn.model_selection import train_test_split\n",
    "from sklearn.feature_selection import VarianceThreshold\n",
    "from sklearn.metrics import precision_score, recall_score,accuracy_score,f1_score,roc_auc_score,mean_squared_error\n",
    "from sklearn.metrics import log_loss\n",
    "data=pd.read_csv(r'D:\\书籍资料整理\\kaggle\\titanic\\train.csv')\n",
    "\n",
    "#注释一下列名\n",
    "#survival\t是否存活\t0 = No, 1 = Yes\n",
    "#pclass\t票类型\t1 = 1st, 2 = 2nd, 3 = 3rd\n",
    "#sex\t性别\t\n",
    "#Age\t年龄\t\n",
    "#sibsp\t泰坦尼克号上的兄弟姐妹/配偶\t\n",
    "#parch\t# 泰坦尼克号上的父母/孩子\t\n",
    "#ticket\tTicket number\t票号\n",
    "#fare\t票价\t\n",
    "#cabin\t房间号\t\n",
    "#embarked\t出发港\tC =  瑟堡, Q = 昆士城, S = 南安普敦\n",
    "data=data[['PassengerId','Survived','Pclass','Sex','Age','SibSp','Parch','Fare','Embarked']] #去掉可能的无关值"
   ]
  },
  {
   "cell_type": "code",
   "execution_count": null,
   "id": "55d6bce8",
   "metadata": {},
   "outputs": [],
   "source": []
  },
  {
   "cell_type": "code",
   "execution_count": 5,
   "id": "4a584780",
   "metadata": {},
   "outputs": [
    {
     "data": {
      "text/html": [
       "<div>\n",
       "<style scoped>\n",
       "    .dataframe tbody tr th:only-of-type {\n",
       "        vertical-align: middle;\n",
       "    }\n",
       "\n",
       "    .dataframe tbody tr th {\n",
       "        vertical-align: top;\n",
       "    }\n",
       "\n",
       "    .dataframe thead th {\n",
       "        text-align: right;\n",
       "    }\n",
       "</style>\n",
       "<table border=\"1\" class=\"dataframe\">\n",
       "  <thead>\n",
       "    <tr style=\"text-align: right;\">\n",
       "      <th></th>\n",
       "      <th>PassengerId</th>\n",
       "      <th>Survived</th>\n",
       "      <th>Pclass</th>\n",
       "      <th>Sex</th>\n",
       "      <th>Age</th>\n",
       "      <th>SibSp</th>\n",
       "      <th>Parch</th>\n",
       "      <th>Fare</th>\n",
       "      <th>Embarked</th>\n",
       "    </tr>\n",
       "  </thead>\n",
       "  <tbody>\n",
       "    <tr>\n",
       "      <th>0</th>\n",
       "      <td>1</td>\n",
       "      <td>0</td>\n",
       "      <td>3</td>\n",
       "      <td>1</td>\n",
       "      <td>22.0</td>\n",
       "      <td>1</td>\n",
       "      <td>0</td>\n",
       "      <td>7.2500</td>\n",
       "      <td>2</td>\n",
       "    </tr>\n",
       "    <tr>\n",
       "      <th>1</th>\n",
       "      <td>2</td>\n",
       "      <td>1</td>\n",
       "      <td>1</td>\n",
       "      <td>0</td>\n",
       "      <td>38.0</td>\n",
       "      <td>1</td>\n",
       "      <td>0</td>\n",
       "      <td>71.2833</td>\n",
       "      <td>0</td>\n",
       "    </tr>\n",
       "    <tr>\n",
       "      <th>2</th>\n",
       "      <td>3</td>\n",
       "      <td>1</td>\n",
       "      <td>3</td>\n",
       "      <td>0</td>\n",
       "      <td>26.0</td>\n",
       "      <td>0</td>\n",
       "      <td>0</td>\n",
       "      <td>7.9250</td>\n",
       "      <td>2</td>\n",
       "    </tr>\n",
       "    <tr>\n",
       "      <th>3</th>\n",
       "      <td>4</td>\n",
       "      <td>1</td>\n",
       "      <td>1</td>\n",
       "      <td>0</td>\n",
       "      <td>35.0</td>\n",
       "      <td>1</td>\n",
       "      <td>0</td>\n",
       "      <td>53.1000</td>\n",
       "      <td>2</td>\n",
       "    </tr>\n",
       "    <tr>\n",
       "      <th>4</th>\n",
       "      <td>5</td>\n",
       "      <td>0</td>\n",
       "      <td>3</td>\n",
       "      <td>1</td>\n",
       "      <td>35.0</td>\n",
       "      <td>0</td>\n",
       "      <td>0</td>\n",
       "      <td>8.0500</td>\n",
       "      <td>2</td>\n",
       "    </tr>\n",
       "  </tbody>\n",
       "</table>\n",
       "</div>"
      ],
      "text/plain": [
       "   PassengerId  Survived  Pclass  Sex   Age  SibSp  Parch     Fare  Embarked\n",
       "0            1         0       3    1  22.0      1      0   7.2500         2\n",
       "1            2         1       1    0  38.0      1      0  71.2833         0\n",
       "2            3         1       3    0  26.0      0      0   7.9250         2\n",
       "3            4         1       1    0  35.0      1      0  53.1000         2\n",
       "4            5         0       3    1  35.0      0      0   8.0500         2"
      ]
     },
     "execution_count": 5,
     "metadata": {},
     "output_type": "execute_result"
    }
   ],
   "source": [
    "sex=LabelEncoder()\n",
    "sex.fit(data['Sex'])\n",
    "data['Sex']=sex.transform(data['Sex'])\n",
    "\n",
    "embarked=LabelEncoder()\n",
    "embarked.fit(data['Embarked'])\n",
    "data['Embarked']=embarked.transform(data['Embarked'])\n",
    "data.head()"
   ]
  },
  {
   "cell_type": "code",
   "execution_count": 7,
   "id": "861856cd",
   "metadata": {},
   "outputs": [],
   "source": [
    "X=data[[x for x in data.columns if x not in ['Survived','PassengerId']]]\n",
    "y=data['Survived']\n",
    "X_train, X_val, y_train, y_val = train_test_split(X, y, random_state=49)\n",
    "xgb_reg = xgb.XGBClassifier()"
   ]
  },
  {
   "cell_type": "code",
   "execution_count": 8,
   "id": "2e5a8286",
   "metadata": {},
   "outputs": [
    {
     "name": "stdout",
     "output_type": "stream",
     "text": [
      "{'learning_rate': [0.005, 0.001, 0.01, 0.1, 0.2, 0.3]}\n",
      "[11:09:48] WARNING: C:/Users/Administrator/workspace/xgboost-win64_release_1.4.0/src/learner.cc:1095: Starting in XGBoost 1.3.0, the default evaluation metric used with the objective 'binary:logistic' was changed from 'error' to 'logloss'. Explicitly set eval_metric if you'd like to restore the old behavior.\n",
      "{'learning_rate': 0.3}\n"
     ]
    },
    {
     "name": "stderr",
     "output_type": "stream",
     "text": [
      "C:\\Users\\Lenovo\\AppData\\Local\\Programs\\Python\\Python39\\lib\\site-packages\\xgboost\\sklearn.py:1146: UserWarning: The use of label encoder in XGBClassifier is deprecated and will be removed in a future release. To remove this warning, do the following: 1) Pass option use_label_encoder=False when constructing XGBClassifier object; and 2) Encode your labels (y) as integers starting with 0, i.e. 0, 1, 2, ..., [num_class - 1].\n",
      "  warnings.warn(label_encoder_deprecation_msg, UserWarning)\n"
     ]
    }
   ],
   "source": [
    "from sklearn.model_selection import GridSearchCV\n",
    "from sklearn.model_selection import StratifiedKFold\n",
    "\n",
    "xgb_param = xgb_reg.get_xgb_params()\n",
    "xgtrain = xgb.DMatrix(X_train, label=y_train)\n",
    "\n",
    "model = xgb.XGBClassifier(n_estimators=15,max_depth=6)\n",
    "\n",
    "param_grid = {'learning_rate': [0.005, 0.001, 0.01, 0.1, 0.2, 0.3]}\n",
    "print(param_grid)\n",
    "kfold = StratifiedKFold(n_splits=10, shuffle=True, random_state=7)\n",
    "grid_search = GridSearchCV(model, param_grid, scoring=\"neg_log_loss\", n_jobs=-1, cv=kfold)\n",
    "grid_result = grid_search.fit(X, y)\n",
    "print(grid_search.best_params_)"
   ]
  },
  {
   "cell_type": "code",
   "execution_count": 12,
   "id": "b2d3a200",
   "metadata": {},
   "outputs": [],
   "source": [
    "import numpy as np\n",
    "def custom_eval(preds, dtrain):\n",
    "    pred_score = 1.0 / (1.0 + np.exp(-preds))\n",
    "    pred = [1 if p > 0.5 else 0 for p in pred_score]\n",
    "    lables = dtrain.get_label()\n",
    "#     auc = roc_auc_score(lables, pred_score)\n",
    "#     acc = accuracy_score(lables, pred)\n",
    "    f1 = f1_score(lables, pred)\n",
    "#     return [('accuracy', acc), ('auc', auc), ('f1', f1)]\n",
    "    return [('f1', f1)]"
   ]
  },
  {
   "cell_type": "code",
   "execution_count": 18,
   "id": "286e904a",
   "metadata": {},
   "outputs": [
    {
     "name": "stdout",
     "output_type": "stream",
     "text": [
      "[0]\ttrain-error:0.15494\ttest-error:0.18716\ttrain-f1:0.78665\ttest-f1:0.74697\n",
      "[1]\ttrain-error:0.14633\ttest-error:0.18567\ttrain-f1:0.80128\ttest-f1:0.75137\n",
      "[2]\ttrain-error:0.14858\ttest-error:0.18569\ttrain-f1:0.79923\ttest-f1:0.74799\n",
      "[3]\ttrain-error:0.14708\ttest-error:0.17820\ttrain-f1:0.80299\ttest-f1:0.75964\n",
      "[4]\ttrain-error:0.14110\ttest-error:0.19016\ttrain-f1:0.80996\ttest-f1:0.73950\n",
      "[5]\ttrain-error:0.13399\ttest-error:0.18417\ttrain-f1:0.81951\ttest-f1:0.75282\n"
     ]
    },
    {
     "name": "stderr",
     "output_type": "stream",
     "text": [
      "C:\\Users\\Lenovo\\AppData\\Local\\Programs\\Python\\Python39\\lib\\site-packages\\xgboost\\training.py:17: UserWarning: Old style callback is deprecated.  See: https://xgboost.readthedocs.io/en/latest/python/callbacks.html\n",
      "  warnings.warn(f'Old style callback is deprecated.  See: {link}', UserWarning)\n"
     ]
    },
    {
     "name": "stdout",
     "output_type": "stream",
     "text": [
      "[6]\ttrain-error:0.13137\ttest-error:0.18267\ttrain-f1:0.82238\ttest-f1:0.75408\n",
      "[7]\ttrain-error:0.13137\ttest-error:0.18417\ttrain-f1:0.82271\ttest-f1:0.75025\n",
      "[8]\ttrain-error:0.12313\ttest-error:0.19014\ttrain-f1:0.83471\ttest-f1:0.74400\n",
      "[9]\ttrain-error:0.12051\ttest-error:0.19015\ttrain-f1:0.83899\ttest-f1:0.74417\n",
      "[10]\ttrain-error:0.11340\ttest-error:0.18417\ttrain-f1:0.84897\ttest-f1:0.75413\n",
      "[11]\ttrain-error:0.11078\ttest-error:0.18568\ttrain-f1:0.85178\ttest-f1:0.74930\n",
      "[12]\ttrain-error:0.10816\ttest-error:0.19166\ttrain-f1:0.85520\ttest-f1:0.74021\n",
      "[13]\ttrain-error:0.10741\ttest-error:0.19465\ttrain-f1:0.85513\ttest-f1:0.73591\n",
      "[14]\ttrain-error:0.10292\ttest-error:0.19166\ttrain-f1:0.86182\ttest-f1:0.74115\n",
      "[15]\ttrain-error:0.10367\ttest-error:0.18716\ttrain-f1:0.86123\ttest-f1:0.74886\n",
      "[16]\ttrain-error:0.09956\ttest-error:0.18865\ttrain-f1:0.86723\ttest-f1:0.74769\n",
      "[17]\ttrain-error:0.09694\ttest-error:0.18566\ttrain-f1:0.87091\ttest-f1:0.75196\n",
      "[18]\ttrain-error:0.09394\ttest-error:0.18265\ttrain-f1:0.87486\ttest-f1:0.75700\n",
      "[19]\ttrain-error:0.09095\ttest-error:0.18117\ttrain-f1:0.87959\ttest-f1:0.75958\n",
      "[20]\ttrain-error:0.08983\ttest-error:0.17818\ttrain-f1:0.88126\ttest-f1:0.76430\n",
      "[21]\ttrain-error:0.08758\ttest-error:0.17519\ttrain-f1:0.88401\ttest-f1:0.76823\n",
      "[22]\ttrain-error:0.08496\ttest-error:0.17518\ttrain-f1:0.88759\ttest-f1:0.76820\n",
      "[23]\ttrain-error:0.08272\ttest-error:0.17669\ttrain-f1:0.89103\ttest-f1:0.76759\n",
      "[24]\ttrain-error:0.08122\ttest-error:0.17367\ttrain-f1:0.89314\ttest-f1:0.77124\n",
      "[25]\ttrain-error:0.07785\ttest-error:0.17816\ttrain-f1:0.89756\ttest-f1:0.76628\n",
      "[26]\ttrain-error:0.07785\ttest-error:0.18264\ttrain-f1:0.89788\ttest-f1:0.75954\n",
      "[27]\ttrain-error:0.07635\ttest-error:0.18263\ttrain-f1:0.89979\ttest-f1:0.75893\n",
      "[28]\ttrain-error:0.07523\ttest-error:0.18862\ttrain-f1:0.90127\ttest-f1:0.75045\n",
      "[29]\ttrain-error:0.07261\ttest-error:0.18414\ttrain-f1:0.90449\ttest-f1:0.75642\n",
      "[30]\ttrain-error:0.07186\ttest-error:0.18564\ttrain-f1:0.90592\ttest-f1:0.75486\n",
      "[31]\ttrain-error:0.06961\ttest-error:0.19460\ttrain-f1:0.90889\ttest-f1:0.74411\n",
      "[32]\ttrain-error:0.06812\ttest-error:0.19459\ttrain-f1:0.91076\ttest-f1:0.74407\n",
      "[33]\ttrain-error:0.06662\ttest-error:0.19759\ttrain-f1:0.91278\ttest-f1:0.74035\n",
      "[34]\ttrain-error:0.06400\ttest-error:0.20208\ttrain-f1:0.91625\ttest-f1:0.73473\n",
      "[35]\ttrain-error:0.06213\ttest-error:0.20358\ttrain-f1:0.91883\ttest-f1:0.73243\n",
      "[36]\ttrain-error:0.06250\ttest-error:0.20357\ttrain-f1:0.91835\ttest-f1:0.73231\n",
      "[37]\ttrain-error:0.06138\ttest-error:0.20057\ttrain-f1:0.91977\ttest-f1:0.73614\n",
      "[38]\ttrain-error:0.06138\ttest-error:0.20208\ttrain-f1:0.91974\ttest-f1:0.73383\n",
      "[39]\ttrain-error:0.06063\ttest-error:0.20209\ttrain-f1:0.92074\ttest-f1:0.73396\n",
      "[40]\ttrain-error:0.05988\ttest-error:0.20208\ttrain-f1:0.92153\ttest-f1:0.73478\n",
      "[41]\ttrain-error:0.05951\ttest-error:0.20507\ttrain-f1:0.92201\ttest-f1:0.73105\n",
      "[42]\ttrain-error:0.05764\ttest-error:0.19909\ttrain-f1:0.92462\ttest-f1:0.73764\n",
      "[43]\ttrain-error:0.05764\ttest-error:0.19909\ttrain-f1:0.92480\ttest-f1:0.73761\n",
      "[44]\ttrain-error:0.05651\ttest-error:0.19909\ttrain-f1:0.92627\ttest-f1:0.73761\n",
      "[45]\ttrain-error:0.05464\ttest-error:0.19609\ttrain-f1:0.92893\ttest-f1:0.74065\n",
      "[46]\ttrain-error:0.05389\ttest-error:0.19760\ttrain-f1:0.92989\ttest-f1:0.74002\n",
      "[47]\ttrain-error:0.05240\ttest-error:0.19461\ttrain-f1:0.93199\ttest-f1:0.74296\n",
      "[48]\ttrain-error:0.05202\ttest-error:0.19460\ttrain-f1:0.93257\ttest-f1:0.74292\n",
      "[49]\ttrain-error:0.05202\ttest-error:0.19609\ttrain-f1:0.93249\ttest-f1:0.74058\n",
      "50\n"
     ]
    },
    {
     "data": {
      "text/plain": [
       "XGBClassifier(base_score=None, booster=None, colsample_bylevel=None,\n",
       "              colsample_bynode=None, colsample_bytree=None, gamma=None,\n",
       "              gpu_id=None, importance_type='gain', interaction_constraints=None,\n",
       "              learning_rate=None, max_delta_step=None, max_depth=5,\n",
       "              min_child_weight=None, missing=nan, monotone_constraints=None,\n",
       "              n_estimators=22, n_jobs=None, num_parallel_tree=None,\n",
       "              random_state=None, reg_alpha=None, reg_lambda=None,\n",
       "              scale_pos_weight=None, subsample=None, tree_method=None,\n",
       "              validate_parameters=None, verbosity=None)"
      ]
     },
     "execution_count": 18,
     "metadata": {},
     "output_type": "execute_result"
    }
   ],
   "source": [
    "xgb_param = xgb_reg.get_xgb_params()\n",
    "xgtrain = xgb.DMatrix(X_train, label=y_train)\n",
    "cvresult = xgb.cv(xgb_param, xgtrain, num_boost_round=50, nfold=5,\n",
    "            metrics={'error'},\n",
    "            feval=custom_eval, seed=0,\n",
    "             callbacks=[xgb.callback.print_evaluation(show_stdv=False)\n",
    "                       # ,xgb.callback.early_stop(3)\n",
    "                       ])\n",
    "print(cvresult.shape[0])\n",
    "xgb_reg.set_params(n_estimators=22,max_depth=5)#把clf的参数设置成最好的树对应的参数"
   ]
  },
  {
   "cell_type": "code",
   "execution_count": 39,
   "id": "e7d23d53",
   "metadata": {},
   "outputs": [
    {
     "name": "stderr",
     "output_type": "stream",
     "text": [
      "d:\\users\\50477\\appdata\\local\\programs\\python\\python38\\lib\\site-packages\\xgboost\\sklearn.py:1146: UserWarning: The use of label encoder in XGBClassifier is deprecated and will be removed in a future release. To remove this warning, do the following: 1) Pass option use_label_encoder=False when constructing XGBClassifier object; and 2) Encode your labels (y) as integers starting with 0, i.e. 0, 1, 2, ..., [num_class - 1].\n",
      "  warnings.warn(label_encoder_deprecation_msg, UserWarning)\n"
     ]
    }
   ],
   "source": [
    "xgb_reg.fit(X_train, y_train, eval_metric='auc')\n",
    "y_pred = xgb_reg.predict(X_val)\n",
    "y_score = xgb_reg.predict_proba(X_val)"
   ]
  },
  {
   "cell_type": "code",
   "execution_count": 40,
   "id": "82bb8bd6",
   "metadata": {},
   "outputs": [
    {
     "name": "stdout",
     "output_type": "stream",
     "text": [
      "测试集准确率: 0.8565022421524664\n",
      "测试集精度: 0.7972972972972973\n",
      "测试集召回率: 0.7763157894736842\n",
      "auc: 0.8972878625134264\n"
     ]
    }
   ],
   "source": [
    "print('测试集准确率:',accuracy_score(y_val, y_pred))\n",
    "print('测试集精度:',precision_score(y_val, y_pred))\n",
    "print('测试集召回率:',recall_score(y_val, y_pred))\n",
    "print('auc:',roc_auc_score(y_val, y_score[:,1]))"
   ]
  },
  {
   "cell_type": "code",
   "execution_count": 41,
   "id": "80303aea",
   "metadata": {},
   "outputs": [
    {
     "data": {
      "text/plain": [
       "4.95629075604751"
      ]
     },
     "execution_count": 41,
     "metadata": {},
     "output_type": "execute_result"
    }
   ],
   "source": [
    "log_loss(y_val, y_pred)"
   ]
  },
  {
   "cell_type": "code",
   "execution_count": 42,
   "id": "3510c0d7",
   "metadata": {},
   "outputs": [],
   "source": [
    "data_test=pd.read_csv(r'D:\\书籍资料整理\\kaggle\\titanic\\test.csv')\n",
    "data_test=data_test[['PassengerId','Pclass','Sex','Age','SibSp','Parch','Fare','Embarked']] #去掉可能的无关值\n",
    "data_test['Sex']=sex.transform(data_test['Sex'])\n",
    "data_test['Embarked']=embarked.transform(data_test['Embarked'])\n",
    "data_test.head()\n",
    "\n",
    "#Pclass\tSex\tAge\tSibSp\tParch\tFare\tEmbarked\n",
    "X_test=data_test[[x for x in data_test.columns if x not in ['PassengerId']]]"
   ]
  },
  {
   "cell_type": "code",
   "execution_count": 43,
   "id": "c671b6bf",
   "metadata": {},
   "outputs": [
    {
     "data": {
      "text/html": [
       "<div>\n",
       "<style scoped>\n",
       "    .dataframe tbody tr th:only-of-type {\n",
       "        vertical-align: middle;\n",
       "    }\n",
       "\n",
       "    .dataframe tbody tr th {\n",
       "        vertical-align: top;\n",
       "    }\n",
       "\n",
       "    .dataframe thead th {\n",
       "        text-align: right;\n",
       "    }\n",
       "</style>\n",
       "<table border=\"1\" class=\"dataframe\">\n",
       "  <thead>\n",
       "    <tr style=\"text-align: right;\">\n",
       "      <th></th>\n",
       "      <th>PassengerId</th>\n",
       "      <th>Pclass</th>\n",
       "      <th>Sex</th>\n",
       "      <th>Age</th>\n",
       "      <th>SibSp</th>\n",
       "      <th>Parch</th>\n",
       "      <th>Fare</th>\n",
       "      <th>Embarked</th>\n",
       "      <th>Survived</th>\n",
       "    </tr>\n",
       "  </thead>\n",
       "  <tbody>\n",
       "    <tr>\n",
       "      <th>0</th>\n",
       "      <td>892</td>\n",
       "      <td>3</td>\n",
       "      <td>1</td>\n",
       "      <td>34.5</td>\n",
       "      <td>0</td>\n",
       "      <td>0</td>\n",
       "      <td>7.8292</td>\n",
       "      <td>1</td>\n",
       "      <td>0</td>\n",
       "    </tr>\n",
       "    <tr>\n",
       "      <th>1</th>\n",
       "      <td>893</td>\n",
       "      <td>3</td>\n",
       "      <td>0</td>\n",
       "      <td>47.0</td>\n",
       "      <td>1</td>\n",
       "      <td>0</td>\n",
       "      <td>7.0000</td>\n",
       "      <td>2</td>\n",
       "      <td>0</td>\n",
       "    </tr>\n",
       "    <tr>\n",
       "      <th>2</th>\n",
       "      <td>894</td>\n",
       "      <td>2</td>\n",
       "      <td>1</td>\n",
       "      <td>62.0</td>\n",
       "      <td>0</td>\n",
       "      <td>0</td>\n",
       "      <td>9.6875</td>\n",
       "      <td>1</td>\n",
       "      <td>0</td>\n",
       "    </tr>\n",
       "    <tr>\n",
       "      <th>3</th>\n",
       "      <td>895</td>\n",
       "      <td>3</td>\n",
       "      <td>1</td>\n",
       "      <td>27.0</td>\n",
       "      <td>0</td>\n",
       "      <td>0</td>\n",
       "      <td>8.6625</td>\n",
       "      <td>2</td>\n",
       "      <td>0</td>\n",
       "    </tr>\n",
       "    <tr>\n",
       "      <th>4</th>\n",
       "      <td>896</td>\n",
       "      <td>3</td>\n",
       "      <td>0</td>\n",
       "      <td>22.0</td>\n",
       "      <td>1</td>\n",
       "      <td>1</td>\n",
       "      <td>12.2875</td>\n",
       "      <td>2</td>\n",
       "      <td>0</td>\n",
       "    </tr>\n",
       "  </tbody>\n",
       "</table>\n",
       "</div>"
      ],
      "text/plain": [
       "   PassengerId  Pclass  Sex   Age  SibSp  Parch     Fare  Embarked  Survived\n",
       "0          892       3    1  34.5      0      0   7.8292         1         0\n",
       "1          893       3    0  47.0      1      0   7.0000         2         0\n",
       "2          894       2    1  62.0      0      0   9.6875         1         0\n",
       "3          895       3    1  27.0      0      0   8.6625         2         0\n",
       "4          896       3    0  22.0      1      1  12.2875         2         0"
      ]
     },
     "execution_count": 43,
     "metadata": {},
     "output_type": "execute_result"
    }
   ],
   "source": [
    "y_test_pre=xgb_reg.predict(X_test)\n",
    "data_test['Survived']=y_test_pre\n",
    "data_test.head()"
   ]
  },
  {
   "cell_type": "code",
   "execution_count": 44,
   "id": "190262d6",
   "metadata": {},
   "outputs": [],
   "source": [
    "data_test=data_test[['PassengerId','Survived']]\n",
    "data_test.to_csv(r'D:\\书籍资料整理\\kaggle\\titanic\\output.csv',index=False)"
   ]
  },
  {
   "cell_type": "code",
   "execution_count": null,
   "id": "6d77a820",
   "metadata": {},
   "outputs": [],
   "source": []
  },
  {
   "cell_type": "code",
   "execution_count": 45,
   "id": "67047d50",
   "metadata": {},
   "outputs": [
    {
     "name": "stdout",
     "output_type": "stream",
     "text": [
      "Pclass 0.16923618\n",
      "Sex 0.6247363\n",
      "Age 0.039216634\n",
      "SibSp 0.0680493\n",
      "Parch 0.025624253\n",
      "Fare 0.042688314\n",
      "Embarked 0.03044906\n"
     ]
    }
   ],
   "source": [
    "for name, score in zip([x for x in X.columns], xgb_reg.feature_importances_):\n",
    "    print(name, score)"
   ]
  },
  {
   "cell_type": "code",
   "execution_count": null,
   "id": "8741c652",
   "metadata": {},
   "outputs": [],
   "source": []
  }
 ],
 "metadata": {
  "kernelspec": {
   "display_name": "Python 3 (ipykernel)",
   "language": "python",
   "name": "python3"
  },
  "language_info": {
   "codemirror_mode": {
    "name": "ipython",
    "version": 3
   },
   "file_extension": ".py",
   "mimetype": "text/x-python",
   "name": "python",
   "nbconvert_exporter": "python",
   "pygments_lexer": "ipython3",
   "version": "3.9.6"
  }
 },
 "nbformat": 4,
 "nbformat_minor": 5
}
